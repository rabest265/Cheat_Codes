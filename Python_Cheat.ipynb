{
 "cells": [
  {
   "cell_type": "code",
   "execution_count": 1,
   "metadata": {},
   "outputs": [],
   "source": [
    "## Import random at top if need a random generater\n",
    "import random\n",
    "import os\n",
    "import csv\n",
    "import pandas as pd\n",
    "import numpy as np"
   ]
  },
  {
   "cell_type": "code",
   "execution_count": 2,
   "metadata": {},
   "outputs": [],
   "source": [
    "## Declare/assigning variables\n",
    "name = \"Testing\"\n",
    "age = 5\n",
    "type1 = [\"Testing\",\"Data\"]\n",
    "type2 = [\"Mary\",\"Rachel\"]\n",
    "type3 = [\"Sony\",\"Dell\"]"
   ]
  },
  {
   "cell_type": "code",
   "execution_count": 3,
   "metadata": {},
   "outputs": [],
   "source": [
    "# Zip all three lists together into tuples\n",
    "namelists = zip(type1, type2, type3)"
   ]
  },
  {
   "cell_type": "code",
   "execution_count": 5,
   "metadata": {},
   "outputs": [
    {
     "name": "stdout",
     "output_type": "stream",
     "text": [
      "Input Name: Rachel\n",
      "Input Age: 37\n"
     ]
    }
   ],
   "source": [
    "## inputting values as string, integer, or booleon\n",
    "name2 = input (\"Input Name: \")\n",
    "age2 = int(input(\"Input Age: \"))"
   ]
  },
  {
   "cell_type": "code",
   "execution_count": 6,
   "metadata": {},
   "outputs": [
    {
     "name": "stdout",
     "output_type": "stream",
     "text": [
      "Test Name: Testing, Test Age: 5\n",
      "Your Name: Rachel, Your Age: 37\n"
     ]
    },
    {
     "data": {
      "text/plain": [
       "'Testing'"
      ]
     },
     "execution_count": 6,
     "metadata": {},
     "output_type": "execute_result"
    }
   ],
   "source": [
    "##Output with and without f-string and values in jupyter\n",
    "print(\"Test Name: \" + name + \", Test Age: \" + str(age))\n",
    "print(f\"Your Name: {name2}, Your Age: {age2}\")\n",
    "name"
   ]
  },
  {
   "cell_type": "code",
   "execution_count": 7,
   "metadata": {},
   "outputs": [
    {
     "name": "stdout",
     "output_type": "stream",
     "text": [
      "You are in type 2\n"
     ]
    }
   ],
   "source": [
    "##Conditionals use if, elif, else and have colons and indents\n",
    "if name2 in type2:\n",
    "    print(\"You are in type 2\")\n",
    "elif name2 in type3:\n",
    "    print(\"You are in type 3\")\n",
    "else:\n",
    "    print(\"You are not in a group\")"
   ]
  },
  {
   "cell_type": "code",
   "execution_count": 8,
   "metadata": {},
   "outputs": [
    {
     "name": "stdout",
     "output_type": "stream",
     "text": [
      "Computer's name is: Dell\n"
     ]
    }
   ],
   "source": [
    "##Use random to select a random item from a list (make sure to import random)\n",
    "name3 = random.choice(type3)\n",
    "print (\"Computer's name is: \" + name3)"
   ]
  },
  {
   "cell_type": "code",
   "execution_count": 9,
   "metadata": {},
   "outputs": [
    {
     "data": {
      "text/plain": [
       "[1, 2, 3, 4]"
      ]
     },
     "execution_count": 9,
     "metadata": {},
     "output_type": "execute_result"
    }
   ],
   "source": [
    "## Set up a list\n",
    "AgeList = [0,1,2,3]\n",
    "## remove first (or given) variable\n",
    "AgeList.pop(0)\n",
    "## Add to end of list\n",
    "AgeList.append (4)\n",
    "AgeList.append (9)\n",
    "## Remove from the list\n",
    "AgeList.remove (9)\n",
    "AgeList"
   ]
  },
  {
   "cell_type": "code",
   "execution_count": 10,
   "metadata": {},
   "outputs": [
    {
     "name": "stdout",
     "output_type": "stream",
     "text": [
      "The length of the list is: 4\n"
     ]
    }
   ],
   "source": [
    "## len returns the length of the list\n",
    "print (\"The length of the list is: \" + str(len(AgeList)))"
   ]
  },
  {
   "cell_type": "code",
   "execution_count": 11,
   "metadata": {},
   "outputs": [
    {
     "name": "stdout",
     "output_type": "stream",
     "text": [
      "The first name is Sony and the second name is Dell\n",
      "You got name number: 2\n"
     ]
    }
   ],
   "source": [
    "## use brackets to call an item from the list by it's index number (remember starts with 0)\n",
    "print (\"The first name is \" + type3[0] + \" and the second name is \" + type3[1])\n",
    "## index to return the nth value of the list (remember starts with 0)\n",
    "print (\"You got name number: \" + str(type3.index(name3) + 1))"
   ]
  },
  {
   "cell_type": "code",
   "execution_count": 12,
   "metadata": {},
   "outputs": [
    {
     "name": "stdout",
     "output_type": "stream",
     "text": [
      "Computer age is: 3\n",
      "4\n",
      "7\n",
      "6\n",
      "8\n",
      "6\n",
      "2\n",
      "4\n",
      "9\n",
      "8\n",
      "1\n"
     ]
    }
   ],
   "source": [
    "age3 = random.choice(AgeList)\n",
    "print (\"Computer age is: \" + str(age3))\n",
    "for x in range(10):\n",
    "    print(random.randint(1, 10))"
   ]
  },
  {
   "cell_type": "code",
   "execution_count": 13,
   "metadata": {},
   "outputs": [
    {
     "name": "stdout",
     "output_type": "stream",
     "text": [
      "How many numbers? 2\n",
      "0\n",
      "1\n",
      "Do you want to continue? (y/n) n\n"
     ]
    }
   ],
   "source": [
    "## Use range to set up a list of values strting from 0 or the first variable denoted\n",
    "run = \"y\"\n",
    "lastval = 0\n",
    "while run == \"y\":\n",
    "    Chain = int(input(\"How many numbers? \"))\n",
    "    for x in range(lastval, lastval + Chain):\n",
    "        print (x)\n",
    "    run = input (\"Do you want to continue? (y/n) \")\n",
    "    lastval = Chain +lastval"
   ]
  },
  {
   "cell_type": "code",
   "execution_count": 14,
   "metadata": {},
   "outputs": [],
   "source": [
    "#HOW TO CALL IN A FILE PATH\n",
    "csvpath = os.path.join('Resources', 'test.csv')\n",
    "output_path = os.path.join(\"dummy.csv\")"
   ]
  },
  {
   "cell_type": "code",
   "execution_count": 15,
   "metadata": {},
   "outputs": [
    {
     "name": "stdout",
     "output_type": "stream",
     "text": [
      "CSV Header: ['\\ufeffname', 'mfr', 'type', 'calories', 'protein', 'fat', 'sodium', 'fiber', 'carbo', 'sugars', 'potass', 'vitamins', 'shelf', 'weight', 'cups', 'rating']\n",
      "['100% Bran', 'N', 'C', '70', '4', '1', '130', '10', '5', '6', '280', '25', '3', '1', '0.33', '68.402973']\n",
      "['100% Natural Bran', 'Q', 'C', '120', '3', '5', '15', '2', '8', '8', '135', '0', '3', '1', '1', '33.983679']\n",
      "['All-Bran', 'K', 'C', '70', '4', '1', '260', '9', '7', '5', '320', '25', '3', '1', '0.33', '59.425505']\n",
      "['All-Bran with Extra Fiber', 'K', 'C', '50', '4', '0', '140', '14', '8', '0', '330', '25', '3', '1', '0.5', '93.704912']\n",
      "['Almond Delight', 'R', 'C', '110', '2', '2', '200', '1', '14', '8', '-1', '25', '3', '1', '0.75', '34.384843']\n",
      "['Apple Cinnamon Cheerios', 'G', 'C', '110', '2', '2', '180', '1.5', '10.5', '10', '70', '25', '1', '1', '0.75', '29.509541']\n",
      "['Apple Jacks', 'K', 'C', '110', '2', '0', '125', '1', '11', '14', '30', '25', '2', '1', '1', '33.174094']\n",
      "['Basic 4', 'G', 'C', '130', '3', '2', '210', '2', '18', '8', '100', '25', '3', '1.33', '0.75', '37.038562']\n",
      "['Bran Chex', 'R', 'C', '90', '2', '1', '200', '4', '15', '6', '125', '25', '1', '1', '0.67', '49.120253']\n",
      "['Bran Flakes', 'P', 'C', '90', '3', '0', '210', '5', '13', '5', '190', '25', '3', '1', '0.67', '53.313813']\n",
      "[\"Cap'n'Crunch\", 'Q', 'C', '120', '1', '2', '220', '0', '12', '12', '35', '25', '2', '1', '0.75', '18.042851']\n",
      "['Cheerios', 'G', 'C', '110', '6', '2', '290', '2', '17', '1', '105', '25', '1', '1', '1.25', '50.764999']\n",
      "['Cinnamon Toast Crunch', 'G', 'C', '120', '1', '3', '210', '0', '13', '9', '45', '25', '2', '1', '0.75', '19.823573']\n",
      "['Clusters', 'G', 'C', '110', '3', '2', '140', '2', '13', '7', '105', '25', '3', '1', '0.5', '40.400208']\n",
      "['Cocoa Puffs', 'G', 'C', '110', '1', '1', '180', '0', '12', '13', '55', '25', '2', '1', '1', '22.736446']\n",
      "['Corn Chex', 'R', 'C', '110', '2', '0', '280', '0', '22', '3', '25', '25', '1', '1', '1', '41.445019']\n",
      "['Corn Flakes', 'K', 'C', '100', '2', '0', '290', '1', '21', '2', '35', '25', '1', '1', '1', '45.863324']\n",
      "['Corn Pops', 'K', 'C', '110', '1', '0', '90', '1', '13', '12', '20', '25', '2', '1', '1', '35.782791']\n",
      "['Count Chocula', 'G', 'C', '110', '1', '1', '180', '0', '12', '13', '65', '25', '2', '1', '1', '22.396513']\n",
      "[\"Cracklin' Oat Bran\", 'K', 'C', '110', '3', '3', '140', '4', '10', '7', '160', '25', '3', '1', '0.5', '40.448772']\n",
      "['Cream of Wheat (Quick)', 'N', 'H', '100', '3', '0', '80', '1', '21', '0', '-1', '0', '2', '1', '1', '64.533816']\n",
      "['Crispix', 'K', 'C', '110', '2', '0', '220', '1', '21', '3', '30', '25', '3', '1', '1', '46.895644']\n",
      "['Crispy Wheat & Raisins', 'G', 'C', '100', '2', '1', '140', '2', '11', '10', '120', '25', '3', '1', '0.75', '36.176196']\n",
      "['Double Chex', 'R', 'C', '100', '2', '0', '190', '1', '18', '5', '80', '25', '3', '1', '0.75', '44.330856']\n",
      "['Froot Loops', 'K', 'C', '110', '2', '1', '125', '1', '11', '13', '30', '25', '2', '1', '1', '32.207582']\n",
      "['Frosted Flakes', 'K', 'C', '110', '1', '0', '200', '1', '14', '11', '25', '25', '1', '1', '0.75', '31.435973']\n",
      "['Frosted Mini-Wheats', 'K', 'C', '100', '3', '0', '0', '3', '14', '7', '100', '25', '2', '1', '0.8', '58.345141']\n",
      "['Fruit & Fibre Dates; Walnuts; and Oats', 'P', 'C', '120', '3', '2', '160', '5', '12', '10', '200', '25', '3', '1.25', '0.67', '40.917047']\n",
      "['Fruitful Bran', 'K', 'C', '120', '3', '0', '240', '5', '14', '12', '190', '25', '3', '1.33', '0.67', '41.015492']\n",
      "['Fruity Pebbles', 'P', 'C', '110', '1', '1', '135', '0', '13', '12', '25', '25', '2', '1', '0.75', '28.025765']\n",
      "['Golden Crisp', 'P', 'C', '100', '2', '0', '45', '0', '11', '15', '40', '25', '1', '1', '0.88', '35.252444']\n",
      "['Golden Grahams', 'G', 'C', '110', '1', '1', '280', '0', '15', '9', '45', '25', '2', '1', '0.75', '23.804043']\n",
      "['Grape Nuts Flakes', 'P', 'C', '100', '3', '1', '140', '3', '15', '5', '85', '25', '3', '1', '0.88', '52.076897']\n",
      "['Grape-Nuts', 'P', 'C', '110', '3', '0', '170', '3', '17', '3', '90', '25', '3', '1', '0.25', '53.371007']\n",
      "['Great Grains Pecan', 'P', 'C', '120', '3', '3', '75', '3', '13', '4', '100', '25', '3', '1', '0.33', '45.811716']\n",
      "['Honey Graham Ohs', 'Q', 'C', '120', '1', '2', '220', '1', '12', '11', '45', '25', '2', '1', '1', '21.871292']\n",
      "['Honey Nut Cheerios', 'G', 'C', '110', '3', '1', '250', '1.5', '11.5', '10', '90', '25', '1', '1', '0.75', '31.072217']\n",
      "['Honey-comb', 'P', 'C', '110', '1', '0', '180', '0', '14', '11', '35', '25', '1', '1', '1.33', '28.742414']\n",
      "['Just Right Crunchy  Nuggets', 'K', 'C', '110', '2', '1', '170', '1', '17', '6', '60', '100', '3', '1', '1', '36.523683']\n",
      "['Just Right Fruit & Nut', 'K', 'C', '140', '3', '1', '170', '2', '20', '9', '95', '100', '3', '1.3', '0.75', '36.471512']\n",
      "['Kix', 'G', 'C', '110', '2', '1', '260', '0', '21', '3', '40', '25', '2', '1', '1.5', '39.241114']\n",
      "['Life', 'Q', 'C', '100', '4', '2', '150', '2', '12', '6', '95', '25', '2', '1', '0.67', '45.328074']\n",
      "['Lucky Charms', 'G', 'C', '110', '2', '1', '180', '0', '12', '12', '55', '25', '2', '1', '1', '26.734515']\n",
      "['Maypo', 'A', 'H', '100', '4', '1', '0', '0', '16', '3', '95', '25', '2', '1', '1', '54.850917']\n",
      "['Muesli Raisins; Dates; & Almonds', 'R', 'C', '150', '4', '3', '95', '3', '16', '11', '170', '25', '3', '1', '1', '37.136863']\n",
      "['Muesli Raisins; Peaches; & Pecans', 'R', 'C', '150', '4', '3', '150', '3', '16', '11', '170', '25', '3', '1', '1', '34.139765']\n",
      "['Mueslix Crispy Blend', 'K', 'C', '160', '3', '2', '150', '3', '17', '13', '160', '25', '3', '1.5', '0.67', '30.313351']\n",
      "['Multi-Grain Cheerios', 'G', 'C', '100', '2', '1', '220', '2', '15', '6', '90', '25', '1', '1', '1', '40.105965']\n",
      "['Nut&Honey Crunch', 'K', 'C', '120', '2', '1', '190', '0', '15', '9', '40', '25', '2', '1', '0.67', '29.924285']\n",
      "['Nutri-Grain Almond-Raisin', 'K', 'C', '140', '3', '2', '220', '3', '21', '7', '130', '25', '3', '1.33', '0.67', '40.69232']\n",
      "['Nutri-grain Wheat', 'K', 'C', '90', '3', '0', '170', '3', '18', '2', '90', '25', '3', '1', '1', '59.642837']\n",
      "['Oatmeal Raisin Crisp', 'G', 'C', '130', '3', '2', '170', '1.5', '13.5', '10', '120', '25', '3', '1.25', '0.5', '30.450843']\n",
      "['Post Nat. Raisin Bran', 'P', 'C', '120', '3', '1', '200', '6', '11', '14', '260', '25', '3', '1.33', '0.67', '37.840594']\n",
      "['Product 19', 'K', 'C', '100', '3', '0', '320', '1', '20', '3', '45', '100', '3', '1', '1', '41.50354']\n",
      "['Puffed Rice', 'Q', 'C', '50', '1', '0', '0', '0', '13', '0', '15', '0', '3', '0.5', '1', '60.756112']\n",
      "['Puffed Wheat', 'Q', 'C', '50', '2', '0', '0', '1', '10', '0', '50', '0', '3', '0.5', '1', '63.005645']\n",
      "['Quaker Oat Squares', 'Q', 'C', '100', '4', '1', '135', '2', '14', '6', '110', '25', '3', '1', '0.5', '49.511874']\n",
      "['Quaker Oatmeal', 'Q', 'H', '100', '5', '2', '0', '2.7', '-1', '-1', '110', '0', '1', '1', '0.67', '50.828392']\n",
      "['Raisin Bran', 'K', 'C', '120', '3', '1', '210', '5', '14', '12', '240', '25', '2', '1.33', '0.75', '39.259197']\n",
      "['Raisin Nut Bran', 'G', 'C', '100', '3', '2', '140', '2.5', '10.5', '8', '140', '25', '3', '1', '0.5', '39.7034']\n",
      "['Raisin Squares', 'K', 'C', '90', '2', '0', '0', '2', '15', '6', '110', '25', '3', '1', '0.5', '55.333142']\n",
      "['Rice Chex', 'R', 'C', '110', '1', '0', '240', '0', '23', '2', '30', '25', '1', '1', '1.13', '41.998933']\n",
      "['Rice Krispies', 'K', 'C', '110', '2', '0', '290', '0', '22', '3', '35', '25', '1', '1', '1', '40.560159']\n",
      "['Shredded Wheat', 'N', 'C', '80', '2', '0', '0', '3', '16', '0', '95', '0', '1', '0.83', '1', '68.235885']\n",
      "[\"Shredded Wheat 'n'Bran\", 'N', 'C', '90', '3', '0', '0', '4', '19', '0', '140', '0', '1', '1', '0.67', '74.472949']\n",
      "['Shredded Wheat spoon size', 'N', 'C', '90', '3', '0', '0', '3', '20', '0', '120', '0', '1', '1', '0.67', '72.801787']\n",
      "['Smacks', 'K', 'C', '110', '2', '1', '70', '1', '9', '15', '40', '25', '2', '1', '0.75', '31.230054']\n",
      "['Special K', 'K', 'C', '110', '6', '0', '230', '1', '16', '3', '55', '25', '1', '1', '1', '53.131324']\n",
      "['Strawberry Fruit Wheats', 'N', 'C', '90', '2', '0', '15', '3', '15', '5', '90', '25', '2', '1', '1', '59.363993']\n",
      "['Total Corn Flakes', 'G', 'C', '110', '2', '1', '200', '0', '21', '3', '35', '100', '3', '1', '1', '38.839746']\n",
      "['Total Raisin Bran', 'G', 'C', '140', '3', '1', '190', '4', '15', '14', '230', '100', '3', '1.5', '1', '28.592785']\n",
      "['Total Whole Grain', 'G', 'C', '100', '3', '1', '200', '3', '16', '3', '110', '100', '3', '1', '1', '46.658844']\n",
      "['Triples', 'G', 'C', '110', '2', '1', '250', '0', '21', '3', '60', '25', '3', '1', '0.75', '39.106174']\n",
      "['Trix', 'G', 'C', '110', '1', '1', '140', '0', '13', '12', '25', '25', '2', '1', '1', '27.753301']\n",
      "['Wheat Chex', 'R', 'C', '100', '3', '1', '230', '3', '17', '3', '115', '25', '1', '1', '0.67', '49.787445']\n",
      "['Wheaties', 'G', 'C', '100', '3', '1', '200', '3', '17', '3', '110', '25', '1', '1', '1', '51.592193']\n",
      "['Wheaties Honey Gold', 'G', 'C', '110', '2', '1', '200', '1', '16', '8', '60', '25', '1', '1', '0.75', '36.187559']\n"
     ]
    }
   ],
   "source": [
    "# HOW TO READ IN A CSV FILE in PYTHON\n",
    "with open(csvpath, newline='') as csvfile:\n",
    "    # CSV reader specifies delimiter and variable that holds contents\n",
    "    csvreader = csv.reader(csvfile, delimiter=',')\n",
    "    \n",
    "    # Read the header row first (skip this step if there is now header)\n",
    "    csv_header = next(csvreader)\n",
    "    # skipp = next(csv_reader, None)\n",
    "    print(f\"CSV Header: {csv_header}\")\n",
    "    # Read each row of data after the header (if you have the row before)\n",
    "    for row in csvreader:\n",
    "        print(row)"
   ]
  },
  {
   "cell_type": "code",
   "execution_count": 16,
   "metadata": {},
   "outputs": [],
   "source": [
    "#HOW TO WRITE A CSV FILE\n",
    "# Open the file using \"write\" mode. Specify the variable to hold the contents\n",
    "with open(output_path, 'w', newline='') as csvfile:\n",
    "\n",
    "    # Initialize csv.writer\n",
    "    csvwriter = csv.writer(csvfile, delimiter=',')\n",
    "    # Write the first row (column headers)\n",
    "    csvwriter.writerow(['First Name', 'Last Name', 'SSN'])\n",
    "    # Write the second row\n",
    "    csvwriter.writerow(['Caleb', 'Frost', '505-80-2901'])"
   ]
  },
  {
   "cell_type": "code",
   "execution_count": 17,
   "metadata": {},
   "outputs": [],
   "source": [
    "# open the output file, create a header row, and then write the zipped object to the csv\n",
    "output_file = os.path.join(\"output.csv\")\n",
    "with open(output_file, \"w\", newline=\"\") as datafile:\n",
    "    writer = csv.writer(datafile)\n",
    "    writer.writerow([\"Option 1\", \"Option 2\"])\n",
    "    #Write a list of zipped arrays\n",
    "    writer.writerows(namelists)"
   ]
  },
  {
   "cell_type": "code",
   "execution_count": 18,
   "metadata": {},
   "outputs": [
    {
     "name": "stdout",
     "output_type": "stream",
     "text": [
      "AGES\n",
      "The age is: 37\n",
      "\n"
     ]
    },
    {
     "data": {
      "text/plain": [
       "<function TextIOWrapper.close()>"
      ]
     },
     "execution_count": 18,
     "metadata": {},
     "output_type": "execute_result"
    }
   ],
   "source": [
    "#Write an output text file\n",
    "output_path = os.path.join(\"output.txt\")\n",
    "file = open(output_path,\"w\")\n",
    "file.write(\"AGES\\n\") #\\n gets you to another line\n",
    "file.write(\"The age is: \" + str(age2) + \"\\n\")\n",
    "file.close()\n",
    "    \n",
    "#Print the file in terminal\n",
    "file = open(output_path,\"r\")\n",
    "print (file.read())\n",
    "file.close"
   ]
  },
  {
   "cell_type": "code",
   "execution_count": 19,
   "metadata": {},
   "outputs": [
    {
     "data": {
      "text/html": [
       "<div>\n",
       "<style scoped>\n",
       "    .dataframe tbody tr th:only-of-type {\n",
       "        vertical-align: middle;\n",
       "    }\n",
       "\n",
       "    .dataframe tbody tr th {\n",
       "        vertical-align: top;\n",
       "    }\n",
       "\n",
       "    .dataframe thead th {\n",
       "        text-align: right;\n",
       "    }\n",
       "</style>\n",
       "<table border=\"1\" class=\"dataframe\">\n",
       "  <thead>\n",
       "    <tr style=\"text-align: right;\">\n",
       "      <th></th>\n",
       "      <th>name</th>\n",
       "      <th>mfr</th>\n",
       "      <th>type</th>\n",
       "      <th>calories</th>\n",
       "      <th>protein</th>\n",
       "      <th>fat</th>\n",
       "      <th>sodium</th>\n",
       "      <th>fiber</th>\n",
       "      <th>carbo</th>\n",
       "      <th>sugars</th>\n",
       "      <th>potass</th>\n",
       "      <th>vitamins</th>\n",
       "      <th>shelf</th>\n",
       "      <th>weight</th>\n",
       "      <th>cups</th>\n",
       "      <th>rating</th>\n",
       "    </tr>\n",
       "  </thead>\n",
       "  <tbody>\n",
       "    <tr>\n",
       "      <th>0</th>\n",
       "      <td>100% Bran</td>\n",
       "      <td>N</td>\n",
       "      <td>C</td>\n",
       "      <td>70</td>\n",
       "      <td>4</td>\n",
       "      <td>1</td>\n",
       "      <td>130</td>\n",
       "      <td>10.0</td>\n",
       "      <td>5.0</td>\n",
       "      <td>6</td>\n",
       "      <td>280</td>\n",
       "      <td>25</td>\n",
       "      <td>3</td>\n",
       "      <td>1.0</td>\n",
       "      <td>0.33</td>\n",
       "      <td>68.402973</td>\n",
       "    </tr>\n",
       "    <tr>\n",
       "      <th>1</th>\n",
       "      <td>100% Natural Bran</td>\n",
       "      <td>Q</td>\n",
       "      <td>C</td>\n",
       "      <td>120</td>\n",
       "      <td>3</td>\n",
       "      <td>5</td>\n",
       "      <td>15</td>\n",
       "      <td>2.0</td>\n",
       "      <td>8.0</td>\n",
       "      <td>8</td>\n",
       "      <td>135</td>\n",
       "      <td>0</td>\n",
       "      <td>3</td>\n",
       "      <td>1.0</td>\n",
       "      <td>1.00</td>\n",
       "      <td>33.983679</td>\n",
       "    </tr>\n",
       "    <tr>\n",
       "      <th>2</th>\n",
       "      <td>All-Bran</td>\n",
       "      <td>K</td>\n",
       "      <td>C</td>\n",
       "      <td>70</td>\n",
       "      <td>4</td>\n",
       "      <td>1</td>\n",
       "      <td>260</td>\n",
       "      <td>9.0</td>\n",
       "      <td>7.0</td>\n",
       "      <td>5</td>\n",
       "      <td>320</td>\n",
       "      <td>25</td>\n",
       "      <td>3</td>\n",
       "      <td>1.0</td>\n",
       "      <td>0.33</td>\n",
       "      <td>59.425505</td>\n",
       "    </tr>\n",
       "    <tr>\n",
       "      <th>3</th>\n",
       "      <td>All-Bran with Extra Fiber</td>\n",
       "      <td>K</td>\n",
       "      <td>C</td>\n",
       "      <td>50</td>\n",
       "      <td>4</td>\n",
       "      <td>0</td>\n",
       "      <td>140</td>\n",
       "      <td>14.0</td>\n",
       "      <td>8.0</td>\n",
       "      <td>0</td>\n",
       "      <td>330</td>\n",
       "      <td>25</td>\n",
       "      <td>3</td>\n",
       "      <td>1.0</td>\n",
       "      <td>0.50</td>\n",
       "      <td>93.704912</td>\n",
       "    </tr>\n",
       "    <tr>\n",
       "      <th>4</th>\n",
       "      <td>Almond Delight</td>\n",
       "      <td>R</td>\n",
       "      <td>C</td>\n",
       "      <td>110</td>\n",
       "      <td>2</td>\n",
       "      <td>2</td>\n",
       "      <td>200</td>\n",
       "      <td>1.0</td>\n",
       "      <td>14.0</td>\n",
       "      <td>8</td>\n",
       "      <td>-1</td>\n",
       "      <td>25</td>\n",
       "      <td>3</td>\n",
       "      <td>1.0</td>\n",
       "      <td>0.75</td>\n",
       "      <td>34.384843</td>\n",
       "    </tr>\n",
       "  </tbody>\n",
       "</table>\n",
       "</div>"
      ],
      "text/plain": [
       "                        name mfr type  calories  protein  fat  sodium  fiber  \\\n",
       "0                  100% Bran   N    C        70        4    1     130   10.0   \n",
       "1          100% Natural Bran   Q    C       120        3    5      15    2.0   \n",
       "2                   All-Bran   K    C        70        4    1     260    9.0   \n",
       "3  All-Bran with Extra Fiber   K    C        50        4    0     140   14.0   \n",
       "4             Almond Delight   R    C       110        2    2     200    1.0   \n",
       "\n",
       "   carbo  sugars  potass  vitamins  shelf  weight  cups     rating  \n",
       "0    5.0       6     280        25      3     1.0  0.33  68.402973  \n",
       "1    8.0       8     135         0      3     1.0  1.00  33.983679  \n",
       "2    7.0       5     320        25      3     1.0  0.33  59.425505  \n",
       "3    8.0       0     330        25      3     1.0  0.50  93.704912  \n",
       "4   14.0       8      -1        25      3     1.0  0.75  34.384843  "
      ]
     },
     "execution_count": 19,
     "metadata": {},
     "output_type": "execute_result"
    }
   ],
   "source": [
    "# HOW TO READ IN A CSV FILE in PANDAS\n",
    "file_one_df = pd.read_csv(csvpath, encoding=\"UTF-8\")\n",
    "\n",
    "file_one_df.head()"
   ]
  },
  {
   "cell_type": "code",
   "execution_count": 20,
   "metadata": {},
   "outputs": [
    {
     "ename": "NameError",
     "evalue": "name 'fileoutput' is not defined",
     "output_type": "error",
     "traceback": [
      "\u001b[0;31m---------------------------------------------------------------------------\u001b[0m",
      "\u001b[0;31mNameError\u001b[0m                                 Traceback (most recent call last)",
      "\u001b[0;32m<ipython-input-20-25894c07c658>\u001b[0m in \u001b[0;36m<module>\u001b[0;34m\u001b[0m\n\u001b[1;32m      1\u001b[0m \u001b[0;31m# HOW TO WRITE IN A CSV FILE in PANDAS\u001b[0m\u001b[0;34m\u001b[0m\u001b[0;34m\u001b[0m\u001b[0;34m\u001b[0m\u001b[0m\n\u001b[0;32m----> 2\u001b[0;31m \u001b[0mfile_one_df\u001b[0m\u001b[0;34m.\u001b[0m\u001b[0mto_csv\u001b[0m\u001b[0;34m(\u001b[0m\u001b[0mfileoutput\u001b[0m\u001b[0;34m,\u001b[0m \u001b[0mindex\u001b[0m\u001b[0;34m=\u001b[0m\u001b[0;32mFalse\u001b[0m\u001b[0;34m,\u001b[0m \u001b[0mheader\u001b[0m\u001b[0;34m=\u001b[0m\u001b[0;32mTrue\u001b[0m\u001b[0;34m)\u001b[0m\u001b[0;34m\u001b[0m\u001b[0;34m\u001b[0m\u001b[0m\n\u001b[0m\u001b[1;32m      3\u001b[0m \u001b[0mfile_one_df\u001b[0m\u001b[0;34m.\u001b[0m\u001b[0mhead\u001b[0m \u001b[0;34m(\u001b[0m\u001b[0;34m)\u001b[0m\u001b[0;34m\u001b[0m\u001b[0;34m\u001b[0m\u001b[0m\n",
      "\u001b[0;31mNameError\u001b[0m: name 'fileoutput' is not defined"
     ]
    }
   ],
   "source": [
    "# HOW TO WRITE IN A CSV FILE in PANDAS\n",
    "file_one_df.to_csv(fileoutput, index=False, header=True)\n",
    "file_one_df.head ()"
   ]
  },
  {
   "cell_type": "code",
   "execution_count": 21,
   "metadata": {},
   "outputs": [
    {
     "data": {
      "text/html": [
       "<div>\n",
       "<style scoped>\n",
       "    .dataframe tbody tr th:only-of-type {\n",
       "        vertical-align: middle;\n",
       "    }\n",
       "\n",
       "    .dataframe tbody tr th {\n",
       "        vertical-align: top;\n",
       "    }\n",
       "\n",
       "    .dataframe thead th {\n",
       "        text-align: right;\n",
       "    }\n",
       "</style>\n",
       "<table border=\"1\" class=\"dataframe\">\n",
       "  <thead>\n",
       "    <tr style=\"text-align: right;\">\n",
       "      <th></th>\n",
       "      <th>name</th>\n",
       "      <th>calories</th>\n",
       "      <th>protein</th>\n",
       "      <th>mfr</th>\n",
       "    </tr>\n",
       "  </thead>\n",
       "  <tbody>\n",
       "    <tr>\n",
       "      <th>0</th>\n",
       "      <td>100% Bran</td>\n",
       "      <td>70</td>\n",
       "      <td>4</td>\n",
       "      <td>N</td>\n",
       "    </tr>\n",
       "    <tr>\n",
       "      <th>1</th>\n",
       "      <td>100% Natural Bran</td>\n",
       "      <td>120</td>\n",
       "      <td>3</td>\n",
       "      <td>Q</td>\n",
       "    </tr>\n",
       "    <tr>\n",
       "      <th>2</th>\n",
       "      <td>All-Bran</td>\n",
       "      <td>70</td>\n",
       "      <td>4</td>\n",
       "      <td>K</td>\n",
       "    </tr>\n",
       "    <tr>\n",
       "      <th>3</th>\n",
       "      <td>All-Bran with Extra Fiber</td>\n",
       "      <td>50</td>\n",
       "      <td>4</td>\n",
       "      <td>K</td>\n",
       "    </tr>\n",
       "    <tr>\n",
       "      <th>4</th>\n",
       "      <td>Almond Delight</td>\n",
       "      <td>110</td>\n",
       "      <td>2</td>\n",
       "      <td>R</td>\n",
       "    </tr>\n",
       "  </tbody>\n",
       "</table>\n",
       "</div>"
      ],
      "text/plain": [
       "                        name  calories  protein mfr\n",
       "0                  100% Bran        70        4   N\n",
       "1          100% Natural Bran       120        3   Q\n",
       "2                   All-Bran        70        4   K\n",
       "3  All-Bran with Extra Fiber        50        4   K\n",
       "4             Almond Delight       110        2   R"
      ]
     },
     "execution_count": 21,
     "metadata": {},
     "output_type": "execute_result"
    }
   ],
   "source": [
    "#Reorganize columns\n",
    "organized_df = file_one_df[[\"name\", \"calories\", \"protein\", \"mfr\"]]\n",
    "organized_df.head()"
   ]
  },
  {
   "cell_type": "code",
   "execution_count": 22,
   "metadata": {},
   "outputs": [
    {
     "data": {
      "text/html": [
       "<div>\n",
       "<style scoped>\n",
       "    .dataframe tbody tr th:only-of-type {\n",
       "        vertical-align: middle;\n",
       "    }\n",
       "\n",
       "    .dataframe tbody tr th {\n",
       "        vertical-align: top;\n",
       "    }\n",
       "\n",
       "    .dataframe thead th {\n",
       "        text-align: right;\n",
       "    }\n",
       "</style>\n",
       "<table border=\"1\" class=\"dataframe\">\n",
       "  <thead>\n",
       "    <tr style=\"text-align: right;\">\n",
       "      <th></th>\n",
       "      <th>Name</th>\n",
       "      <th>calories</th>\n",
       "      <th>protein</th>\n",
       "      <th>Manufacturer</th>\n",
       "    </tr>\n",
       "  </thead>\n",
       "  <tbody>\n",
       "    <tr>\n",
       "      <th>0</th>\n",
       "      <td>100% Bran</td>\n",
       "      <td>70</td>\n",
       "      <td>4</td>\n",
       "      <td>N</td>\n",
       "    </tr>\n",
       "    <tr>\n",
       "      <th>1</th>\n",
       "      <td>100% Natural Bran</td>\n",
       "      <td>120</td>\n",
       "      <td>3</td>\n",
       "      <td>Q</td>\n",
       "    </tr>\n",
       "    <tr>\n",
       "      <th>2</th>\n",
       "      <td>All-Bran</td>\n",
       "      <td>70</td>\n",
       "      <td>4</td>\n",
       "      <td>K</td>\n",
       "    </tr>\n",
       "    <tr>\n",
       "      <th>3</th>\n",
       "      <td>All-Bran with Extra Fiber</td>\n",
       "      <td>50</td>\n",
       "      <td>4</td>\n",
       "      <td>K</td>\n",
       "    </tr>\n",
       "    <tr>\n",
       "      <th>4</th>\n",
       "      <td>Almond Delight</td>\n",
       "      <td>110</td>\n",
       "      <td>2</td>\n",
       "      <td>R</td>\n",
       "    </tr>\n",
       "  </tbody>\n",
       "</table>\n",
       "</div>"
      ],
      "text/plain": [
       "                        Name  calories  protein Manufacturer\n",
       "0                  100% Bran        70        4            N\n",
       "1          100% Natural Bran       120        3            Q\n",
       "2                   All-Bran        70        4            K\n",
       "3  All-Bran with Extra Fiber        50        4            K\n",
       "4             Almond Delight       110        2            R"
      ]
     },
     "execution_count": 22,
     "metadata": {},
     "output_type": "execute_result"
    }
   ],
   "source": [
    "# Rename the headers to be more explanatory\n",
    "renamed_df = organized_df.rename(columns={\"name\":\"Name\", \"mfr\": \"Manufacturer\"})\n",
    "renamed_df.head()"
   ]
  },
  {
   "cell_type": "code",
   "execution_count": 52,
   "metadata": {},
   "outputs": [
    {
     "data": {
      "text/plain": [
       "array(['N', 'Q', 'K', 'R', 'G', 'P', 'A'], dtype=object)"
      ]
     },
     "execution_count": 52,
     "metadata": {},
     "output_type": "execute_result"
    }
   ],
   "source": [
    "#List of unique manufacturers\n",
    "renamed_df[\"Manufacturer\"].unique()"
   ]
  },
  {
   "cell_type": "code",
   "execution_count": 24,
   "metadata": {},
   "outputs": [
    {
     "data": {
      "text/plain": [
       "Name            77\n",
       "calories        11\n",
       "protein          6\n",
       "Manufacturer     7\n",
       "dtype: int64"
      ]
     },
     "execution_count": 24,
     "metadata": {},
     "output_type": "execute_result"
    }
   ],
   "source": [
    "#Number of unique anythings # Can also do min/max/sum/mean\n",
    "renamed_df.nunique()"
   ]
  },
  {
   "cell_type": "code",
   "execution_count": 48,
   "metadata": {},
   "outputs": [
    {
     "data": {
      "text/html": [
       "<div>\n",
       "<style scoped>\n",
       "    .dataframe tbody tr th:only-of-type {\n",
       "        vertical-align: middle;\n",
       "    }\n",
       "\n",
       "    .dataframe tbody tr th {\n",
       "        vertical-align: top;\n",
       "    }\n",
       "\n",
       "    .dataframe thead th {\n",
       "        text-align: right;\n",
       "    }\n",
       "</style>\n",
       "<table border=\"1\" class=\"dataframe\">\n",
       "  <thead>\n",
       "    <tr style=\"text-align: right;\">\n",
       "      <th></th>\n",
       "      <th>Name</th>\n",
       "      <th>calories</th>\n",
       "      <th>protein</th>\n",
       "    </tr>\n",
       "    <tr>\n",
       "      <th>Manufacturer</th>\n",
       "      <th></th>\n",
       "      <th></th>\n",
       "      <th></th>\n",
       "    </tr>\n",
       "  </thead>\n",
       "  <tbody>\n",
       "    <tr>\n",
       "      <th>N</th>\n",
       "      <td>100% Bran</td>\n",
       "      <td>70</td>\n",
       "      <td>4</td>\n",
       "    </tr>\n",
       "    <tr>\n",
       "      <th>Q</th>\n",
       "      <td>100% Natural Bran</td>\n",
       "      <td>120</td>\n",
       "      <td>3</td>\n",
       "    </tr>\n",
       "    <tr>\n",
       "      <th>K</th>\n",
       "      <td>All-Bran</td>\n",
       "      <td>70</td>\n",
       "      <td>4</td>\n",
       "    </tr>\n",
       "    <tr>\n",
       "      <th>K</th>\n",
       "      <td>All-Bran with Extra Fiber</td>\n",
       "      <td>50</td>\n",
       "      <td>4</td>\n",
       "    </tr>\n",
       "    <tr>\n",
       "      <th>R</th>\n",
       "      <td>Almond Delight</td>\n",
       "      <td>110</td>\n",
       "      <td>2</td>\n",
       "    </tr>\n",
       "  </tbody>\n",
       "</table>\n",
       "</div>"
      ],
      "text/plain": [
       "                                   Name  calories  protein\n",
       "Manufacturer                                              \n",
       "N                             100% Bran        70        4\n",
       "Q                     100% Natural Bran       120        3\n",
       "K                              All-Bran        70        4\n",
       "K             All-Bran with Extra Fiber        50        4\n",
       "R                        Almond Delight       110        2"
      ]
     },
     "execution_count": 48,
     "metadata": {},
     "output_type": "execute_result"
    }
   ],
   "source": [
    "#set one of the columns as the index using set_index and specify the column\n",
    "Man_df = renamed_df.set_index(\"Manufacturer\")\n",
    "Man_df.head()"
   ]
  },
  {
   "cell_type": "code",
   "execution_count": 49,
   "metadata": {},
   "outputs": [
    {
     "data": {
      "text/html": [
       "<div>\n",
       "<style scoped>\n",
       "    .dataframe tbody tr th:only-of-type {\n",
       "        vertical-align: middle;\n",
       "    }\n",
       "\n",
       "    .dataframe tbody tr th {\n",
       "        vertical-align: top;\n",
       "    }\n",
       "\n",
       "    .dataframe thead th {\n",
       "        text-align: right;\n",
       "    }\n",
       "</style>\n",
       "<table border=\"1\" class=\"dataframe\">\n",
       "  <thead>\n",
       "    <tr style=\"text-align: right;\">\n",
       "      <th></th>\n",
       "      <th>Name</th>\n",
       "      <th>calories</th>\n",
       "    </tr>\n",
       "    <tr>\n",
       "      <th>Manufacturer</th>\n",
       "      <th></th>\n",
       "      <th></th>\n",
       "    </tr>\n",
       "  </thead>\n",
       "  <tbody>\n",
       "    <tr>\n",
       "      <th>G</th>\n",
       "      <td>Apple Cinnamon Cheerios</td>\n",
       "      <td>110</td>\n",
       "    </tr>\n",
       "    <tr>\n",
       "      <th>G</th>\n",
       "      <td>Basic 4</td>\n",
       "      <td>130</td>\n",
       "    </tr>\n",
       "    <tr>\n",
       "      <th>G</th>\n",
       "      <td>Cheerios</td>\n",
       "      <td>110</td>\n",
       "    </tr>\n",
       "    <tr>\n",
       "      <th>G</th>\n",
       "      <td>Cinnamon Toast Crunch</td>\n",
       "      <td>120</td>\n",
       "    </tr>\n",
       "    <tr>\n",
       "      <th>G</th>\n",
       "      <td>Clusters</td>\n",
       "      <td>110</td>\n",
       "    </tr>\n",
       "  </tbody>\n",
       "</table>\n",
       "</div>"
      ],
      "text/plain": [
       "                                 Name  calories\n",
       "Manufacturer                                   \n",
       "G             Apple Cinnamon Cheerios       110\n",
       "G                             Basic 4       130\n",
       "G                            Cheerios       110\n",
       "G               Cinnamon Toast Crunch       120\n",
       "G                            Clusters       110"
      ]
     },
     "execution_count": 49,
     "metadata": {},
     "output_type": "execute_result"
    }
   ],
   "source": [
    "# Loc will filter for items indexed and return specific columns\n",
    "# Use : empty to use slice function instead of any of the values\n",
    "# | for OR and & for AND\n",
    "Select_df = Man_df.loc[[\"G\", \"R\"],[\"Name\", \"calories\"]]\n",
    "Select_df.head()"
   ]
  },
  {
   "cell_type": "code",
   "execution_count": 41,
   "metadata": {},
   "outputs": [
    {
     "data": {
      "text/html": [
       "<div>\n",
       "<style scoped>\n",
       "    .dataframe tbody tr th:only-of-type {\n",
       "        vertical-align: middle;\n",
       "    }\n",
       "\n",
       "    .dataframe tbody tr th {\n",
       "        vertical-align: top;\n",
       "    }\n",
       "\n",
       "    .dataframe thead th {\n",
       "        text-align: right;\n",
       "    }\n",
       "</style>\n",
       "<table border=\"1\" class=\"dataframe\">\n",
       "  <thead>\n",
       "    <tr style=\"text-align: right;\">\n",
       "      <th></th>\n",
       "      <th>Name</th>\n",
       "    </tr>\n",
       "    <tr>\n",
       "      <th>Manufacturer</th>\n",
       "      <th></th>\n",
       "    </tr>\n",
       "  </thead>\n",
       "  <tbody>\n",
       "    <tr>\n",
       "      <th>G</th>\n",
       "      <td>Apple Cinnamon Cheerios</td>\n",
       "    </tr>\n",
       "    <tr>\n",
       "      <th>G</th>\n",
       "      <td>Basic 4</td>\n",
       "    </tr>\n",
       "    <tr>\n",
       "      <th>G</th>\n",
       "      <td>Cheerios</td>\n",
       "    </tr>\n",
       "    <tr>\n",
       "      <th>G</th>\n",
       "      <td>Cinnamon Toast Crunch</td>\n",
       "    </tr>\n",
       "  </tbody>\n",
       "</table>\n",
       "</div>"
      ],
      "text/plain": [
       "                                 Name\n",
       "Manufacturer                         \n",
       "G             Apple Cinnamon Cheerios\n",
       "G                             Basic 4\n",
       "G                            Cheerios\n",
       "G               Cinnamon Toast Crunch"
      ]
     },
     "execution_count": 41,
     "metadata": {},
     "output_type": "execute_result"
    }
   ],
   "source": [
    "# iloc to get the ranges of rows comma ranges of columns REMEMBER 0 index and includes last value\n",
    "iloc_df = Select_df.iloc[0:4,0:1]\n",
    "iloc_df"
   ]
  },
  {
   "cell_type": "code",
   "execution_count": 51,
   "metadata": {},
   "outputs": [
    {
     "data": {
      "text/html": [
       "<div>\n",
       "<style scoped>\n",
       "    .dataframe tbody tr th:only-of-type {\n",
       "        vertical-align: middle;\n",
       "    }\n",
       "\n",
       "    .dataframe tbody tr th {\n",
       "        vertical-align: top;\n",
       "    }\n",
       "\n",
       "    .dataframe thead th {\n",
       "        text-align: right;\n",
       "    }\n",
       "</style>\n",
       "<table border=\"1\" class=\"dataframe\">\n",
       "  <thead>\n",
       "    <tr style=\"text-align: right;\">\n",
       "      <th></th>\n",
       "      <th>Name</th>\n",
       "      <th>calories</th>\n",
       "    </tr>\n",
       "    <tr>\n",
       "      <th>Manufacturer</th>\n",
       "      <th></th>\n",
       "      <th></th>\n",
       "    </tr>\n",
       "  </thead>\n",
       "  <tbody>\n",
       "    <tr>\n",
       "      <th>G</th>\n",
       "      <td>Apple Cinnamon Cheerios</td>\n",
       "      <td>110</td>\n",
       "    </tr>\n",
       "    <tr>\n",
       "      <th>G</th>\n",
       "      <td>Basic 4</td>\n",
       "      <td>130</td>\n",
       "    </tr>\n",
       "    <tr>\n",
       "      <th>G</th>\n",
       "      <td>Cheerios</td>\n",
       "      <td>110</td>\n",
       "    </tr>\n",
       "    <tr>\n",
       "      <th>G</th>\n",
       "      <td>Cinnamon Toast Crunch</td>\n",
       "      <td>120</td>\n",
       "    </tr>\n",
       "    <tr>\n",
       "      <th>G</th>\n",
       "      <td>Clusters</td>\n",
       "      <td>110</td>\n",
       "    </tr>\n",
       "  </tbody>\n",
       "</table>\n",
       "</div>"
      ],
      "text/plain": [
       "                                 Name  calories\n",
       "Manufacturer                                   \n",
       "G             Apple Cinnamon Cheerios       110\n",
       "G                             Basic 4       130\n",
       "G                            Cheerios       110\n",
       "G               Cinnamon Toast Crunch       120\n",
       "G                            Clusters       110"
      ]
     },
     "execution_count": 51,
     "metadata": {},
     "output_type": "execute_result"
    }
   ],
   "source": [
    "Only_100_df = Select_df.loc [Select_df[\"calories\"]>= 100]\n",
    "Only_100_df.head()"
   ]
  },
  {
   "cell_type": "code",
   "execution_count": null,
   "metadata": {},
   "outputs": [],
   "source": [
    "# CLEANING THE DATA\n",
    "# del DF_name['column name'] to remove a column\n",
    "\n",
    "#DF_name.columns   - gives the column names\n",
    "\n",
    "# DF_name.count to see how many have values\n",
    "\n",
    "# To drop missing data\n",
    "# New_DF_name = DFname.dropna(how=\"any\")\n",
    "\n",
    "# DF_name.dtypes to tell you what the type is for each column\n",
    "\n",
    "# You can cast the files to numberic\n",
    "# DF_name['Column name']=pd.to_numeric(DF_name[\"Column name\"])\n",
    "# DFname ['Column name'].value_counts shows you unique values in the column\n",
    "# You can replace some values to other values\n",
    "\n",
    "# FILTERING\n",
    "# new_DF_name = DF_name.loc[df_name[\"column\"] == \"value\", :]\n",
    "\n",
    "# GROUPING\n",
    "# Grouped_DF_name = DF_name.groupby(['column'])\n",
    "# Mean_DF_name = Grouped_DF_name.mean()  or sum or count etc.\n",
    "\n",
    "# You can add new columns using operations\n",
    "# DF_name [\"new column\"]= DF_name[\"column1\"]+DF_name[\"column2\"]\n",
    "\n",
    "# You can SORT\n",
    "# DF_sorted_name = DF_name.sort_values (\"column\", ascending=False)  defaults to true\n",
    "\n",
    "# To reset the index\n",
    "#new_df = DF_sorted_name.reset_index (drop = True)"
   ]
  },
  {
   "cell_type": "code",
   "execution_count": null,
   "metadata": {},
   "outputs": [],
   "source": [
    "# You can group by a column and then get aggregations on the data\n",
    "#grouped_df = df.groupby(['column name'])\n",
    "#grouped_df.count().head(10)\n",
    "#new_df = grouped_df[\"numeric column\"].sum()\n",
    "# Creating a new DataFrame using both duration and count\n",
    "#grouped_summary_table = pd.DataFrame({\"colomn name\": [grouped_df],\n",
    "#                                    \"numeric column\": [new_df]})\n",
    "#state_summary_table.head()\n"
   ]
  },
  {
   "cell_type": "code",
   "execution_count": null,
   "metadata": {},
   "outputs": [],
   "source": [
    "# MERGING\n",
    "#merge_table_name = pd.merge(dataframe_name1, dataframe_name2, on=\"matching_column\") can add optional how=\"outer\" or left or right\n",
    "# Inner join - will drop anything where both don't match by default\n",
    "# For Outer join - will put NaN if missing from the other one or keep all right or all left only\n",
    "# Can also optionally add suffixes =(\"_x\", \"y\")"
   ]
  },
  {
   "cell_type": "code",
   "execution_count": null,
   "metadata": {},
   "outputs": [],
   "source": [
    "# BINNING\n",
    "#Creating groupings og data\n",
    "bins = [0, 60, 70, 80, 90, 100] # first is less than or equal to 60\n",
    "group_names = [\"F\", \"D\", \"C\", \"B\", \"A\"] # One less than the bin\n",
    "dataframe_name[\"New column name\"] = pd.cut(dataframe_name[\"Column you are binning\"], bins, labels=group_names) \n",
    "#You can then get data by that binned column\n",
    "dataframe_name = dataframe_name.groupby(\"New column name\")\n",
    "dataframe_name.max"
   ]
  },
  {
   "cell_type": "code",
   "execution_count": null,
   "metadata": {},
   "outputs": [],
   "source": [
    "#MAPPING\n",
    "#Only do it at the end of analysis but it changes the output of your data\n",
    "#Dollars\n",
    "file_df[\"avg_cost\"] = file_df[\"avg_cost\"].map(\"${:,.2f}\".format)\n",
    "#Thousands\n",
    "file_df[\"population\"] = file_df[\"population\"].map(\"{:,}\".format)\n",
    "#2 decimals\n",
    "file_df[\"other\"] = file_df[\"other\"].map(\"{:.2f}\".format)\n",
    "\n",
    "#to convert to float first:\n",
    "file_df[\"other\"] = file_df[\"other\"].astype(float).map(\"{:.2f}\".format)\n",
    "    "
   ]
  }
 ],
 "metadata": {
  "kernelspec": {
   "display_name": "Python 3",
   "language": "python",
   "name": "python3"
  },
  "language_info": {
   "codemirror_mode": {
    "name": "ipython",
    "version": 3
   },
   "file_extension": ".py",
   "mimetype": "text/x-python",
   "name": "python",
   "nbconvert_exporter": "python",
   "pygments_lexer": "ipython3",
   "version": "3.7.1"
  }
 },
 "nbformat": 4,
 "nbformat_minor": 2
}
