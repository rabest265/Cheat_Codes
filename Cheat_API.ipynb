{
 "cells": [
  {
   "cell_type": "code",
   "execution_count": 1,
   "metadata": {},
   "outputs": [],
   "source": [
    "# Dependencies\n",
    "import requests\n",
    "import json\n",
    "import pandas as pd\n",
    "import matplotlib.pyplot as plt\n",
    "from pprint import pprint # better than dumps\n",
    "\n",
    "import openweathermapy.core as owm\n",
    "\n",
    "from config import weather_api_key\n",
    "from config import NYT_api_key\n",
    "from config import gkey\n",
    "from config import cen_api_key\n",
    "\n",
    "# Access maps with unique API key\n",
    "import gmaps\n",
    "gmaps.configure(api_key=gkey)\n",
    "\n",
    "from census import Census\n",
    "# Census API Key\n",
    "c = Census(cen_api_key, year=2013)"
   ]
  },
  {
   "cell_type": "code",
   "execution_count": 2,
   "metadata": {},
   "outputs": [],
   "source": [
    "# URL for GET requests to retrieve vehicle data\n",
    "url = \"https://api.spacexdata.com/v2/launchpads\""
   ]
  },
  {
   "cell_type": "code",
   "execution_count": 3,
   "metadata": {},
   "outputs": [
    {
     "name": "stdout",
     "output_type": "stream",
     "text": [
      "[{'padid': 1, 'id': 'kwajalein_atoll', 'full_name': 'Kwajalein Atoll Omelek Island', 'status': 'retired', 'location': {'name': 'Omelek Island', 'region': 'Marshall Islands', 'latitude': 9.0477206, 'longitude': 167.7431292}, 'vehicles_launched': ['Falcon 1'], 'attempted_launches': 5, 'successful_launches': 2, 'wikipedia': 'https://en.wikipedia.org/wiki/Omelek_Island', 'details': 'SpaceX original launch site, where all of the Falcon 1 launches occured. Abandoned as SpaceX decided against upgrading the pad to support Falcon 9.'}, {'padid': 2, 'id': 'ccafs_slc_40', 'full_name': 'Cape Canaveral Air Force Station Space Launch Complex 40', 'status': 'active', 'location': {'name': 'Cape Canaveral', 'region': 'Florida', 'latitude': 28.5618571, 'longitude': -80.577366}, 'vehicles_launched': ['Falcon 9'], 'attempted_launches': 41, 'successful_launches': 39, 'wikipedia': 'https://en.wikipedia.org/wiki/Cape_Canaveral_Air_Force_Station_Space_Launch_Complex_40', 'details': 'SpaceX primary Falcon 9 launch pad, where all east coast Falcon 9s launched prior to the AMOS-6 anomaly. Initially used to launch Titan rockets for Lockheed Martin. Back online since CRS-13 on 2017-12-15.'}, {'padid': 4, 'id': 'ksc_lc_39a', 'full_name': 'Kennedy Space Center Historic Launch Complex 39A', 'status': 'active', 'location': {'name': 'Cape Canaveral', 'region': 'Florida', 'latitude': 28.6080585, 'longitude': -80.6039558}, 'vehicles_launched': ['Falcon 9', 'Falcon Heavy'], 'attempted_launches': 16, 'successful_launches': 16, 'wikipedia': 'https://en.wikipedia.org/wiki/Kennedy_Space_Center_Launch_Complex_39#Launch_Pad_39A', 'details': 'NASA historic launch pad that launched most of the Saturn V and Space Shuttle missions. Initially for Falcon Heavy launches, it is now launching all of SpaceX east coast missions due to the damage from the AMOS-6 anomaly. After SLC-40 repairs are complete, it will be upgraded to support Falcon Heavy, a process which will take about two months. In the future it will launch commercial crew missions and the Interplanetary Transport System.'}, {'padid': 5, 'id': 'vafb_slc_3w', 'full_name': 'Vandenberg Air Force Base Space Launch Complex 3W', 'status': 'retired', 'location': {'name': 'Vandenberg Air Force Base', 'region': 'California', 'latitude': 34.6440904, 'longitude': -120.5931438}, 'vehicles_launched': ['Falcon 1'], 'attempted_launches': 0, 'successful_launches': 0, 'wikipedia': 'https://en.wikipedia.org/wiki/Vandenberg_AFB_Space_Launch_Complex_3', 'details': 'SpaceX original west coast launch pad for Falcon 1. Performed a static fire but was never used for a launch and abandoned due to scheduling conflicts.'}, {'padid': 6, 'id': 'vafb_slc_4e', 'full_name': 'Vandenberg Air Force Base Space Launch Complex 4E', 'status': 'active', 'location': {'name': 'Vandenberg Air Force Base', 'region': 'California', 'latitude': 34.632093, 'longitude': -120.610829}, 'vehicles_launched': ['Falcon 9'], 'attempted_launches': 14, 'successful_launches': 14, 'wikipedia': 'https://en.wikipedia.org/wiki/Vandenberg_AFB_Space_Launch_Complex_4', 'details': 'SpaceX primary west coast launch pad for polar orbits and sun synchronous orbits, primarily used for Iridium. Also intended to be capable of launching Falcon Heavy.'}, {'padid': 8, 'id': 'stls', 'full_name': 'SpaceX South Texas Launch Site', 'status': 'under construction', 'location': {'name': 'Boca Chica Village', 'region': 'Texas', 'latitude': 25.9972641, 'longitude': -97.1560845}, 'vehicles_launched': ['Falcon 9'], 'attempted_launches': 0, 'successful_launches': 0, 'wikipedia': 'https://en.wikipedia.org/wiki/SpaceX_South_Texas_Launch_Site', 'details': 'SpaceX new launch site currently under construction to help keep up with the Falcon 9 and Heavy manifests. Expected to be completed in late 2018. Initially will be limited to 12 flights per year, and only GTO launches.'}]\n"
     ]
    }
   ],
   "source": [
    "# Retrieving data and converting it into JSON\n",
    "print(requests.get(url).json())"
   ]
  },
  {
   "cell_type": "code",
   "execution_count": 4,
   "metadata": {},
   "outputs": [],
   "source": [
    "# print(json.dumps(response[0], indent=4, sort_keys=True))"
   ]
  },
  {
   "cell_type": "code",
   "execution_count": 5,
   "metadata": {},
   "outputs": [
    {
     "name": "stdout",
     "output_type": "stream",
     "text": [
      "[\n",
      "    {\n",
      "        \"attempted_launches\": 5,\n",
      "        \"details\": \"SpaceX original launch site, where all of the Falcon 1 launches occured. Abandoned as SpaceX decided against upgrading the pad to support Falcon 9.\",\n",
      "        \"full_name\": \"Kwajalein Atoll Omelek Island\",\n",
      "        \"id\": \"kwajalein_atoll\",\n",
      "        \"location\": {\n",
      "            \"latitude\": 9.0477206,\n",
      "            \"longitude\": 167.7431292,\n",
      "            \"name\": \"Omelek Island\",\n",
      "            \"region\": \"Marshall Islands\"\n",
      "        },\n",
      "        \"padid\": 1,\n",
      "        \"status\": \"retired\",\n",
      "        \"successful_launches\": 2,\n",
      "        \"vehicles_launched\": [\n",
      "            \"Falcon 1\"\n",
      "        ],\n",
      "        \"wikipedia\": \"https://en.wikipedia.org/wiki/Omelek_Island\"\n",
      "    },\n",
      "    {\n",
      "        \"attempted_launches\": 41,\n",
      "        \"details\": \"SpaceX primary Falcon 9 launch pad, where all east coast Falcon 9s launched prior to the AMOS-6 anomaly. Initially used to launch Titan rockets for Lockheed Martin. Back online since CRS-13 on 2017-12-15.\",\n",
      "        \"full_name\": \"Cape Canaveral Air Force Station Space Launch Complex 40\",\n",
      "        \"id\": \"ccafs_slc_40\",\n",
      "        \"location\": {\n",
      "            \"latitude\": 28.5618571,\n",
      "            \"longitude\": -80.577366,\n",
      "            \"name\": \"Cape Canaveral\",\n",
      "            \"region\": \"Florida\"\n",
      "        },\n",
      "        \"padid\": 2,\n",
      "        \"status\": \"active\",\n",
      "        \"successful_launches\": 39,\n",
      "        \"vehicles_launched\": [\n",
      "            \"Falcon 9\"\n",
      "        ],\n",
      "        \"wikipedia\": \"https://en.wikipedia.org/wiki/Cape_Canaveral_Air_Force_Station_Space_Launch_Complex_40\"\n",
      "    },\n",
      "    {\n",
      "        \"attempted_launches\": 16,\n",
      "        \"details\": \"NASA historic launch pad that launched most of the Saturn V and Space Shuttle missions. Initially for Falcon Heavy launches, it is now launching all of SpaceX east coast missions due to the damage from the AMOS-6 anomaly. After SLC-40 repairs are complete, it will be upgraded to support Falcon Heavy, a process which will take about two months. In the future it will launch commercial crew missions and the Interplanetary Transport System.\",\n",
      "        \"full_name\": \"Kennedy Space Center Historic Launch Complex 39A\",\n",
      "        \"id\": \"ksc_lc_39a\",\n",
      "        \"location\": {\n",
      "            \"latitude\": 28.6080585,\n",
      "            \"longitude\": -80.6039558,\n",
      "            \"name\": \"Cape Canaveral\",\n",
      "            \"region\": \"Florida\"\n",
      "        },\n",
      "        \"padid\": 4,\n",
      "        \"status\": \"active\",\n",
      "        \"successful_launches\": 16,\n",
      "        \"vehicles_launched\": [\n",
      "            \"Falcon 9\",\n",
      "            \"Falcon Heavy\"\n",
      "        ],\n",
      "        \"wikipedia\": \"https://en.wikipedia.org/wiki/Kennedy_Space_Center_Launch_Complex_39#Launch_Pad_39A\"\n",
      "    },\n",
      "    {\n",
      "        \"attempted_launches\": 0,\n",
      "        \"details\": \"SpaceX original west coast launch pad for Falcon 1. Performed a static fire but was never used for a launch and abandoned due to scheduling conflicts.\",\n",
      "        \"full_name\": \"Vandenberg Air Force Base Space Launch Complex 3W\",\n",
      "        \"id\": \"vafb_slc_3w\",\n",
      "        \"location\": {\n",
      "            \"latitude\": 34.6440904,\n",
      "            \"longitude\": -120.5931438,\n",
      "            \"name\": \"Vandenberg Air Force Base\",\n",
      "            \"region\": \"California\"\n",
      "        },\n",
      "        \"padid\": 5,\n",
      "        \"status\": \"retired\",\n",
      "        \"successful_launches\": 0,\n",
      "        \"vehicles_launched\": [\n",
      "            \"Falcon 1\"\n",
      "        ],\n",
      "        \"wikipedia\": \"https://en.wikipedia.org/wiki/Vandenberg_AFB_Space_Launch_Complex_3\"\n",
      "    },\n",
      "    {\n",
      "        \"attempted_launches\": 14,\n",
      "        \"details\": \"SpaceX primary west coast launch pad for polar orbits and sun synchronous orbits, primarily used for Iridium. Also intended to be capable of launching Falcon Heavy.\",\n",
      "        \"full_name\": \"Vandenberg Air Force Base Space Launch Complex 4E\",\n",
      "        \"id\": \"vafb_slc_4e\",\n",
      "        \"location\": {\n",
      "            \"latitude\": 34.632093,\n",
      "            \"longitude\": -120.610829,\n",
      "            \"name\": \"Vandenberg Air Force Base\",\n",
      "            \"region\": \"California\"\n",
      "        },\n",
      "        \"padid\": 6,\n",
      "        \"status\": \"active\",\n",
      "        \"successful_launches\": 14,\n",
      "        \"vehicles_launched\": [\n",
      "            \"Falcon 9\"\n",
      "        ],\n",
      "        \"wikipedia\": \"https://en.wikipedia.org/wiki/Vandenberg_AFB_Space_Launch_Complex_4\"\n",
      "    },\n",
      "    {\n",
      "        \"attempted_launches\": 0,\n",
      "        \"details\": \"SpaceX new launch site currently under construction to help keep up with the Falcon 9 and Heavy manifests. Expected to be completed in late 2018. Initially will be limited to 12 flights per year, and only GTO launches.\",\n",
      "        \"full_name\": \"SpaceX South Texas Launch Site\",\n",
      "        \"id\": \"stls\",\n",
      "        \"location\": {\n",
      "            \"latitude\": 25.9972641,\n",
      "            \"longitude\": -97.1560845,\n",
      "            \"name\": \"Boca Chica Village\",\n",
      "            \"region\": \"Texas\"\n",
      "        },\n",
      "        \"padid\": 8,\n",
      "        \"status\": \"under construction\",\n",
      "        \"successful_launches\": 0,\n",
      "        \"vehicles_launched\": [\n",
      "            \"Falcon 9\"\n",
      "        ],\n",
      "        \"wikipedia\": \"https://en.wikipedia.org/wiki/SpaceX_South_Texas_Launch_Site\"\n",
      "    }\n",
      "]\n"
     ]
    }
   ],
   "source": [
    "# Pretty Print the output of the JSON\n",
    "response = requests.get(url).json()\n",
    "print(json.dumps(response, indent=4, sort_keys=True))"
   ]
  },
  {
   "cell_type": "code",
   "execution_count": 6,
   "metadata": {},
   "outputs": [
    {
     "name": "stdout",
     "output_type": "stream",
     "text": [
      "50000000\n",
      "The first payload weight is: 22800\n"
     ]
    }
   ],
   "source": [
    "# Performing a GET Request and saving the \n",
    "# API's response within a variable\n",
    "url3 = \"https://api.spacexdata.com/v2/rockets/falcon9\"\n",
    "response = requests.get(url3)\n",
    "response_json = response.json()\n",
    "\n",
    "# It is possible to grab a specific value \n",
    "print(response_json[\"cost_per_launch\"])\n",
    "\n",
    "# values stored within sub-dictionaries and sub-lists\n",
    "payload_weight = response_json[\"payload_weights\"][0][\"kg\"]\n",
    "print (\"The first payload weight is: \"+ str(payload_weight))"
   ]
  },
  {
   "cell_type": "code",
   "execution_count": 7,
   "metadata": {},
   "outputs": [
    {
     "name": "stdout",
     "output_type": "stream",
     "text": [
      "Select a Movie: Jaws\n",
      "http://www.omdbapi.com/?t=Jaws&apikey=trilogy\n",
      "{'Actors': 'Roy Scheider, Robert Shaw, Richard Dreyfuss, Lorraine Gary',\n",
      " 'Awards': 'Won 3 Oscars. Another 11 wins & 18 nominations.',\n",
      " 'BoxOffice': 'N/A',\n",
      " 'Country': 'USA',\n",
      " 'DVD': '11 Jul 2000',\n",
      " 'Director': 'Steven Spielberg',\n",
      " 'Genre': 'Adventure, Drama, Thriller',\n",
      " 'Language': 'English',\n",
      " 'Metascore': '87',\n",
      " 'Plot': \"When a killer shark unleashes chaos on a beach resort, it's up to a \"\n",
      "         'local sheriff, a marine biologist, and an old seafarer to hunt the '\n",
      "         'beast down.',\n",
      " 'Poster': 'https://m.media-amazon.com/images/M/MV5BMmVmODY1MzEtYTMwZC00MzNhLWFkNDMtZjAwM2EwODUxZTA5XkEyXkFqcGdeQXVyNTAyODkwOQ@@._V1_SX300.jpg',\n",
      " 'Production': 'Universal Pictures',\n",
      " 'Rated': 'PG',\n",
      " 'Ratings': [{'Source': 'Internet Movie Database', 'Value': '8.0/10'},\n",
      "             {'Source': 'Rotten Tomatoes', 'Value': '97%'},\n",
      "             {'Source': 'Metacritic', 'Value': '87/100'}],\n",
      " 'Released': '20 Jun 1975',\n",
      " 'Response': 'True',\n",
      " 'Runtime': '124 min',\n",
      " 'Title': 'Jaws',\n",
      " 'Type': 'movie',\n",
      " 'Website': 'http://www.jaws25.com/',\n",
      " 'Writer': 'Peter Benchley (screenplay), Carl Gottlieb (screenplay), Peter '\n",
      "           'Benchley (based on the novel by)',\n",
      " 'Year': '1975',\n",
      " 'imdbID': 'tt0073195',\n",
      " 'imdbRating': '8.0',\n",
      " 'imdbVotes': '501,849'}\n",
      "Movie was directed by Steven Spielberg.\n",
      "Movie was released in USA.\n",
      "When a killer shark unleashes chaos on a beach resort, it's up to a local sheriff, a marine biologist, and an old seafarer to hunt the beast down.\n"
     ]
    }
   ],
   "source": [
    "# PPRINT\n",
    "url = \"http://www.omdbapi.com/?t=\"\n",
    "api_key = \"&apikey=trilogy\"\n",
    "movie = input (\"Select a Movie: \")\n",
    "response = requests.get(url + movie + api_key)\n",
    "print(response.url)\n",
    "data = response.json()\n",
    "pprint(data)\n",
    "print(f\"Movie was directed by {data['Director']}.\")\n",
    "print(f\"Movie was released in {data['Country']}.\")\n",
    "print (data[\"Plot\"])"
   ]
  },
  {
   "cell_type": "code",
   "execution_count": 8,
   "metadata": {},
   "outputs": [
    {
     "name": "stdout",
     "output_type": "stream",
     "text": [
      "Making request number: 0 for ID: 97\n",
      "Making request number: 1 for ID: 71\n",
      "Making request number: 2 for ID: 83\n",
      "Making request number: 3 for ID: 56\n",
      "Making request number: 4 for ID: 2\n",
      "Making request number: 5 for ID: 53\n",
      "Making request number: 6 for ID: 67\n",
      "Making request number: 7 for ID: 79\n",
      "Making request number: 8 for ID: 35\n",
      "Making request number: 9 for ID: 55\n",
      "[{'Response': 'False', 'Error': 'No API key provided.'}, {'Response': 'False', 'Error': 'No API key provided.'}, {'Response': 'False', 'Error': 'No API key provided.'}, {'Response': 'False', 'Error': 'No API key provided.'}, {'Response': 'False', 'Error': 'No API key provided.'}, {'Response': 'False', 'Error': 'No API key provided.'}, {'Response': 'False', 'Error': 'No API key provided.'}, {'Response': 'False', 'Error': 'No API key provided.'}, {'Response': 'False', 'Error': 'No API key provided.'}, {'Response': 'False', 'Error': 'No API key provided.'}]\n"
     ]
    }
   ],
   "source": [
    "url5 = \"http://jsonplaceholder.typicode.com/posts/\"\n",
    "response_json = []\n",
    "indices = [97, 71, 83, 56, 2, 53, 67, 79, 35, 55]\n",
    "# Make a request for each of the indices\n",
    "for x in range(len(indices)):\n",
    "    print(f\"Making request number: {x} for ID: {indices[x]}\")\n",
    "\n",
    "    # Get one of the posts\n",
    "    post_response = requests.get(url + str(indices[x]))\n",
    "\n",
    "    # Save post's JSON\n",
    "    response_json.append(post_response.json())\n",
    "print(response_json)"
   ]
  },
  {
   "cell_type": "code",
   "execution_count": 9,
   "metadata": {},
   "outputs": [
    {
     "name": "stdout",
     "output_type": "stream",
     "text": [
      "The director of Aliens is James Cameron\n",
      "The director of Sing is Garth Jennings, Christophe Lourdelet(co-director)\n",
      "The director of Moana is Ron Clements, John Musker, Don Hall(co-director), Chris Williams(co-director)\n",
      "['James Cameron', 'Garth Jennings, Christophe Lourdelet(co-director)', 'Ron Clements, John Musker, Don Hall(co-director), Chris Williams(co-director)']\n"
     ]
    }
   ],
   "source": [
    "url6 = \"http://www.omdbapi.com/?apikey=trilogy&t=\"\n",
    "\n",
    "movies = [\"Aliens\", \"Sing\", \"Moana\"]\n",
    "response_json6 = []\n",
    "for x in range(len(movies)):\n",
    "    post_response = requests.get(url6 + str(movies[x]))\n",
    "    direct = post_response.json()[\"Director\"]\n",
    "    response_json6.append(direct)\n",
    "    print (\"The director of \" + str(movies[x]) + \" is \" + direct)\n",
    "print (response_json6)"
   ]
  },
  {
   "cell_type": "code",
   "execution_count": 10,
   "metadata": {},
   "outputs": [
    {
     "name": "stdout",
     "output_type": "stream",
     "text": [
      "Your Reading List\n",
      "Roundups of crime novels by Marilyn Stasio in The New York Times Book Review.\n",
      "https://www.nytimes.com/column/crime\n",
      "A weekly column exploring crime in the New York City and the characters on both sides of the law.\n",
      "https://www.nytimes.com/column/crime-scene\n",
      "An outré reading list for the holiday season.\n",
      "https://www.nytimes.com/2014/12/07/books/review/frances-larsons-severed-and-more.html\n",
      "In Cornwell’s new thriller, Kay Scarpetta’s expertise is needed with a murder victim, a man once accused of being a terrorist.\n",
      "https://www.nytimes.com/2014/11/16/books/review/patricia-cornwells-flesh-and-blood-and-more.html\n",
      "Anthony Horowitz’s “Moriarty” is a Sherlock ­Holmes pastiche that opens five days after the great detective and his nemesis plunged to their doom.\n",
      "https://www.nytimes.com/2014/12/21/books/review/anthony-horowitzs-moriarty-and-more.html\n",
      "How racial bias distorts the way we talk about justice.\n",
      "https://www.nytimes.com/2014/12/01/opinion/charles-blow-crime-and-punishment.html\n",
      "In Michael Connelly’s “The Burning Room,” Harry Bosch tries to impart wisdom to his new partner.\n",
      "https://www.nytimes.com/2014/11/02/books/review/michael-connellys-burning-room-and-more.html\n",
      "In John Sandford’s “Deadline,” dogs are being stolen and auctioned off for resale as laboratory animals.\n",
      "https://www.nytimes.com/2014/10/19/books/review/john-sandfords-deadline-and-more.html\n",
      "Archer Mayor’s “Proof Positive” is about the death of a reclusive hoarder, a photojournalist who had suffered a brain injury in Vietnam.\n",
      "https://www.nytimes.com/2014/10/05/books/review/archer-mayors-proof-positive-and-more.html\n",
      "“Darkness, Darkness,” John Harvey’s final novel in his series featuring Inspector Charlie Resnick, strikes an elegiac tone.\n",
      "https://www.nytimes.com/2014/09/28/books/review/john-harveys-darkness-darkness-and-more.html\n"
     ]
    }
   ],
   "source": [
    "# NY TIMES\n",
    "\n",
    "url = \"https://api.nytimes.com/svc/search/v2/articlesearch.json?\"\n",
    "# Store a search term\n",
    "query = \"crime\"\n",
    "# Search for articles published between a begin and end date\n",
    "begin_date = 20140101\n",
    "end_date = 20141231\n",
    "# Build url\n",
    "query_url = url + \"api-key=\" + NYT_api_key + \"&q=\" + query + \"&begin_date=\" + str(begin_date) + \"&end_date=\" + str(end_date)\n",
    "# Retrieve articles\n",
    "articles = requests.get(query_url).json()\n",
    "articles_list = [article for article in articles[\"response\"][\"docs\"]]\n",
    "print(\"Your Reading List\")\n",
    "for article in articles_list:\n",
    "    print(article[\"snippet\"])\n",
    "    print(article[\"web_url\"])"
   ]
  },
  {
   "cell_type": "code",
   "execution_count": 11,
   "metadata": {},
   "outputs": [],
   "source": [
    "# First entry =  [0]\n",
    "# Last entry = [-1]\n"
   ]
  },
  {
   "cell_type": "code",
   "execution_count": 12,
   "metadata": {},
   "outputs": [
    {
     "name": "stdout",
     "output_type": "stream",
     "text": [
      "The current temperture in London is : 8.69 Celsius.\n"
     ]
    }
   ],
   "source": [
    "# ADD WEATHER \n",
    "from config import weather_api_key\n",
    "# Save config information\n",
    "url = \"http://api.openweathermap.org/data/2.5/weather?\"\n",
    "city = \"London\"\n",
    "unit = \"metric\"\n",
    "# Build query URL\n",
    "query_url = url + \"appid=\" + weather_api_key + \"&q=\" + city + \"&units=\" + unit\n",
    "# Get weather data\n",
    "weather_response = requests.get(query_url)\n",
    "weather_json = weather_response.json()\n",
    "temp = weather_json[\"main\"][\"temp\"]\n",
    "print(f\"The current temperture in {city} is : {temp} Celsius.\")"
   ]
  },
  {
   "cell_type": "code",
   "execution_count": 13,
   "metadata": {},
   "outputs": [
    {
     "name": "stdout",
     "output_type": "stream",
     "text": [
      "The latitude information received is: [48.86, 51.51, 59.91, 39.91]\n",
      "The temperature information received is: [7.98, 8.69, 2.68, 12.67]\n"
     ]
    }
   ],
   "source": [
    "# Save config information.\n",
    "url = \"http://api.openweathermap.org/data/2.5/weather?\"\n",
    "units = \"metric\"\n",
    "# Build partial query URL\n",
    "query_url = f\"{url}appid={weather_api_key}&units={units}&q=\"\n",
    "cities = [\"Paris\", \"London\", \"Oslo\", \"Beijing\"]\n",
    "# set up lists to hold reponse info\n",
    "lat = []\n",
    "temp = []\n",
    "# Loop through the list of cities and perform a request for data on each\n",
    "for city in cities:\n",
    "    response = requests.get(query_url + city).json()\n",
    "    lat.append(response['coord']['lat'])\n",
    "    temp.append(response['main']['temp'])\n",
    "print(f\"The latitude information received is: {lat}\")\n",
    "print(f\"The temperature information received is: {temp}\")"
   ]
  },
  {
   "cell_type": "code",
   "execution_count": 14,
   "metadata": {},
   "outputs": [
    {
     "name": "stdout",
     "output_type": "stream",
     "text": [
      "      city    lat   temp\n",
      "0    Paris  48.86   7.98\n",
      "1   London  51.51   8.69\n",
      "2     Oslo  59.91   2.68\n",
      "3  Beijing  39.91  12.67\n"
     ]
    },
    {
     "data": {
      "image/png": "[encoded data removed]",
      "text/plain": [
       "<Figure size 432x288 with 1 Axes>"
      ]
     },
     "metadata": {
      "needs_background": "light"
     },
     "output_type": "display_data"
    }
   ],
   "source": [
    "# create a data frame from cities, lat, and temp\n",
    "weather_dict = {\n",
    "    \"city\": cities,\n",
    "    \"lat\": lat,\n",
    "    \"temp\": temp\n",
    "}\n",
    "weather_data = pd.DataFrame(weather_dict)\n",
    "print(weather_data.head())\n",
    "# Build a scatter plot for each data type\n",
    "plt.scatter(weather_data[\"lat\"], weather_data[\"temp\"], marker=\"o\")\n",
    "\n",
    "# Incorporate the other graph properties\n",
    "plt.title(\"Temperature in World Cities\")\n",
    "plt.ylabel(\"Temperature (Celsius)\")\n",
    "plt.xlabel(\"Latitude\")\n",
    "plt.grid(True)\n",
    "\n",
    "# Save the figure\n",
    "plt.savefig(\"TemperatureInWorldCities.png\")\n",
    "\n",
    "# Show plot\n",
    "plt.show()"
   ]
  },
  {
   "cell_type": "code",
   "execution_count": 15,
   "metadata": {},
   "outputs": [
    {
     "name": "stdout",
     "output_type": "stream",
     "text": [
      "Oops, that key doesn't exist.\n",
      "...But the program doesn't die early!\n"
     ]
    }
   ],
   "source": [
    "# ERROR HANDLING/ EXCEPTIONS\n",
    "students = {\n",
    "    \"James\": 27,\n",
    "    \"Sarah\": 19,\n",
    "    \"Jocelyn\": 28}\n",
    "# Try to access key that doesn't exist\n",
    "try:\n",
    "    students[\"Jezebel\"]\n",
    "except KeyError: #should put the right error in\n",
    "    print(\"Oops, that key doesn't exist.\")\n",
    "# \"Catching\" the error lets the rest of our code execute\n",
    "print(\"...But the program doesn't die early!\")"
   ]
  },
  {
   "cell_type": "code",
   "execution_count": 16,
   "metadata": {},
   "outputs": [
    {
     "name": "stdout",
     "output_type": "stream",
     "text": [
      "Current weather object for Paris: {'coord': {'lon': 2.35, 'lat': 48.86}, 'weather': [{'id': 803, 'main': 'Clouds', 'description': 'broken clouds', 'icon': '04d'}], 'base': 'stations', 'main': {'temp': 7.98, 'pressure': 1022, 'humidity': 57, 'temp_min': 6.11, 'temp_max': 10}, 'visibility': 10000, 'wind': {'speed': 4.6, 'deg': 270}, 'clouds': {'all': 76}, 'dt': 1552931185, 'sys': {'type': 1, 'id': 6540, 'message': 0.0134, 'country': 'FR', 'sunrise': 1552888717, 'sunset': 1552931938}, 'id': 2988507, 'name': 'Paris', 'cod': 200}.\n",
      "***************************\n",
      "The current weather summary for Paris is: ('Paris', 7.98).\n"
     ]
    }
   ],
   "source": [
    "# Open Weather\n",
    "#config\n",
    "from config import weather_api_key\n",
    "# Create settings dictionary with information we're interested in\n",
    "settings = {\"units\": \"metric\", \"appid\": weather_api_key} # can include q=\n",
    "# Get current weather\n",
    "current_weather_paris = owm.get_current(\"Paris\", **settings)\n",
    "print(f\"Current weather object for Paris: {current_weather_paris}.\")\n",
    "print(\"***************************\")\n",
    "summary = [\"name\", \"main.temp\"]\n",
    "data = current_weather_paris(*summary)\n",
    "print(f\"The current weather summary for Paris is: {data}.\")"
   ]
  },
  {
   "cell_type": "code",
   "execution_count": 17,
   "metadata": {},
   "outputs": [
    {
     "name": "stdout",
     "output_type": "stream",
     "text": [
      "Aruba\n",
      "Afghanistan\n",
      "Africa\n",
      "Angola\n",
      "Albania\n",
      "Andorra\n",
      "Andean Region\n",
      "Arab World\n",
      "United Arab Emirates\n",
      "Argentina\n",
      "Armenia\n",
      "American Samoa\n",
      "Antigua and Barbuda\n",
      "Australia\n",
      "Austria\n",
      "Azerbaijan\n",
      "Burundi\n",
      "East Asia & Pacific (IBRD-only countries)\n",
      "Europe & Central Asia (IBRD-only countries)\n",
      "Belgium\n",
      "Benin\n",
      "Burkina Faso\n",
      "Bangladesh\n",
      "Bulgaria\n",
      "IBRD countries classified as high income\n",
      "Bahrain\n",
      "Bahamas, The\n",
      "Bosnia and Herzegovina\n",
      "Latin America & the Caribbean (IBRD-only countries)\n",
      "Belarus\n",
      "Belize\n",
      "Middle East & North Africa (IBRD-only countries)\n",
      "Bermuda\n",
      "Bolivia\n",
      "Brazil\n",
      "Barbados\n",
      "Brunei Darussalam\n",
      "Sub-Saharan Africa (IBRD-only countries)\n",
      "Bhutan\n",
      "Botswana\n",
      "Sub-Saharan Africa (IFC classification)\n",
      "Central African Republic\n",
      "Canada\n",
      "East Asia and the Pacific (IFC classification)\n",
      "Central Europe and the Baltics\n",
      "Europe and Central Asia (IFC classification)\n",
      "Switzerland\n",
      "Channel Islands\n",
      "Chile\n",
      "China\n"
     ]
    }
   ],
   "source": [
    "#WORLD BANK\n",
    "url = \"http://api.worldbank.org/v2/\"\n",
    "format = \"json\"\n",
    "# Get country information in JSON format\n",
    "countries_response = requests.get(f\"{url}countries?format={format}\").json()\n",
    "# First element is general information, second is countries themselves\n",
    "countries = countries_response[1]\n",
    "# Report the names\n",
    "for country in countries:\n",
    "    print(country[\"name\"])"
   ]
  },
  {
   "cell_type": "markdown",
   "metadata": {},
   "source": [
    "## GOOGLE"
   ]
  },
  {
   "cell_type": "code",
   "execution_count": 24,
   "metadata": {},
   "outputs": [
    {
     "name": "stdout",
     "output_type": "stream",
     "text": [
      "\n",
      "    City: Boise, Idaho\n",
      "    Latitude: 43.6150186\n",
      "    Longitude: -116.2023137\n",
      "    \n"
     ]
    }
   ],
   "source": [
    "# GOOGLE GEOCODE\n",
    "# Target city\n",
    "target_city = \"Boise, Idaho\"\n",
    "\n",
    "# # Build the endpoint URL\n",
    "# target_url = ('https://maps.googleapis.com/maps/api/geocode/json?'\n",
    "#     'address={0}&key={1}').format(target_city, gkey)\n",
    "\n",
    "# geo_data = requests.get(target_url).json()\n",
    "\n",
    "params = {\"address\": target_city, \"key\": gkey}\n",
    "# Build URL using the Google Maps API\n",
    "base_url = \"https://maps.googleapis.com/maps/api/geocode/json\"\n",
    "# Run request\n",
    "response = requests.get(base_url, params=params)\n",
    "# Convert to JSON\n",
    "geo_data = response.json()\n",
    "\n",
    "# Print the json (pretty printed)\n",
    "# print(json.dumps(geo_data, indent=4, sort_keys=True))\n",
    "\n",
    "# Extract latitude and longitude\n",
    "lat = geo_data[\"results\"][0][\"geometry\"][\"location\"][\"lat\"]\n",
    "lng = geo_data[\"results\"][0][\"geometry\"][\"location\"][\"lng\"]\n",
    "\n",
    "# Print the latitude and longitude\n",
    "print('''\n",
    "    City: {0}\n",
    "    Latitude: {1}\n",
    "    Longitude: {2}\n",
    "    '''.format(target_city, lat, lng))"
   ]
  },
  {
   "cell_type": "code",
   "execution_count": 22,
   "metadata": {},
   "outputs": [
    {
     "name": "stdout",
     "output_type": "stream",
     "text": [
      "Yen Ching Restaurant\n",
      "305 N 9th St, Boise\n"
     ]
    }
   ],
   "source": [
    "# GOOGLE PLACES\n",
    "\n",
    "# geocoordinates\n",
    "target_coordinates = \"43.6187102, -116.2146068\"\n",
    "target_search = \"Chinese\"\n",
    "target_radius = 8000\n",
    "target_type = \"restaurant\"\n",
    "\n",
    "# set up a parameters dictionary\n",
    "params = {\n",
    "    \"location\": target_coordinates,\n",
    "    \"keyword\": target_search,\n",
    "    \"radius\": target_radius,\n",
    "    \"type\": target_type,\n",
    "    \"key\": gkey\n",
    "}\n",
    "\n",
    "# base url\n",
    "base_url = \"https://maps.googleapis.com/maps/api/place/nearbysearch/json\"\n",
    "\n",
    "# run a request using our params dictionary\n",
    "response = requests.get(base_url, params=params)\n",
    "\n",
    "# convert response to json\n",
    "places_data = response.json()\n",
    "\n",
    "# Print the json (pretty printed)\n",
    "# print(json.dumps(places_data, indent=4, sort_keys=True))\n",
    "\n",
    "# Print the name and address of the first restaurant that appears\n",
    "print(places_data[\"results\"][0][\"name\"])\n",
    "print(places_data[\"results\"][0][\"vicinity\"])"
   ]
  },
  {
   "cell_type": "code",
   "execution_count": 26,
   "metadata": {},
   "outputs": [
    {
     "name": "stdout",
     "output_type": "stream",
     "text": [
      "Retrieving Results for Index 0: chinese.\n",
      "Closest chinese restaurant is Chinese Fast Wok.\n",
      "------------\n",
      "Retrieving Results for Index 1: cuban.\n",
      "Closest cuban restaurant is Alma de Cuba.\n",
      "------------\n",
      "Retrieving Results for Index 2: czech.\n",
      "Missing field/result... skipping.\n",
      "------------\n",
      "Retrieving Results for Index 3: french.\n",
      "Closest french restaurant is Caribou Cafe.\n",
      "------------\n",
      "  ethnicity              name                                 address  \\\n",
      "0   chinese  Chinese Fast Wok  1500 John F Kennedy Blvd, Philadelphia   \n",
      "1     cuban      Alma de Cuba            1623 Walnut St, Philadelphia   \n",
      "2     czech                                                             \n",
      "3    french      Caribou Cafe            1126 Walnut St, Philadelphia   \n",
      "\n",
      "  price_level rating  \n",
      "0           2      2  \n",
      "1           3    4.4  \n",
      "2                     \n",
      "3           2    4.2  \n"
     ]
    }
   ],
   "source": [
    "#CALL FROM CSV AND STORE AS DATAFRAME\n",
    "\n",
    "#Read in csv file\n",
    "types_df = pd.read_csv(\"Resources/ethnic.csv\")\n",
    "# set up additional columns to hold information\n",
    "types_df['name'] = \"\"\n",
    "types_df['address'] = \"\"\n",
    "types_df['price_level'] = \"\"\n",
    "types_df['rating'] = \"\"\n",
    "\n",
    "# find the closest restaurant of each type to coordinates\n",
    "\n",
    "base_url = \"https://maps.googleapis.com/maps/api/place/nearbysearch/json\"\n",
    "params = {\n",
    "    \"location\": \"39.952583,-75.16522\",  # philadelphia coords,\n",
    "    \"rankby\": \"distance\",\n",
    "    \"type\": \"restaurant\",\n",
    "    \"key\": gkey,\n",
    "}\n",
    "\n",
    "# use iterrows to iterate through pandas dataframe\n",
    "for index, row in types_df.iterrows():\n",
    "    # get restaurant type from df\n",
    "    restr_type = row['ethnicity']\n",
    "    # add keyword to params dict\n",
    "    params['keyword'] = restr_type\n",
    "    # assemble url and make API request\n",
    "    print(f\"Retrieving Results for Index {index}: {restr_type}.\")\n",
    "    response = requests.get(base_url, params=params).json()\n",
    "    # extract results\n",
    "    results = response['results']\n",
    "    \n",
    "    try:\n",
    "        print(f\"Closest {restr_type} restaurant is {results[0]['name']}.\")\n",
    "        \n",
    "        types_df.loc[index, 'name'] = results[0]['name']\n",
    "        types_df.loc[index, 'address'] = results[0]['vicinity']\n",
    "        types_df.loc[index, 'price_level'] = results[0]['price_level']\n",
    "        types_df.loc[index, 'rating'] = results[0]['rating']\n",
    "        \n",
    "    except (KeyError, IndexError):\n",
    "        print(\"Missing field/result... skipping.\")\n",
    "        \n",
    "    print(\"------------\")\n",
    "print (types_df)"
   ]
  },
  {
   "cell_type": "code",
   "execution_count": 2,
   "metadata": {},
   "outputs": [
    {
     "data": {
      "application/vnd.jupyter.widget-view+json": {
       "model_id": "abc2a588919845baae9b95dd6779dc0f",
       "version_major": 2,
       "version_minor": 0
      },
      "text/plain": [
       "Figure(layout=FigureLayout(border='1px solid black', height='300px', margin='0 auto 0 auto', padding='1px', wi…"
      ]
     },
     "metadata": {},
     "output_type": "display_data"
    }
   ],
   "source": [
    "# CREATE A MAP with MARKERS\n",
    "\n",
    "# Create a list containing coordinates\n",
    "coordinates = [\n",
    "    (40.71, -74.00),\n",
    "    (30.26, -97.74),\n",
    "    (46.87, -96.78),\n",
    "    (47.60, -122.33),\n",
    "    (32.71, -117.16)\n",
    "]\n",
    "# Customize the size of the figure\n",
    "figure_layout = {\n",
    "    'width': '400px',\n",
    "    'height': '300px',\n",
    "    'border': '1px solid black',\n",
    "    'padding': '1px',\n",
    "    'margin': '0 auto 0 auto'\n",
    "}\n",
    "fig = gmaps.figure(layout=figure_layout)\n",
    "# Assign the marker layer to a variable\n",
    "# markers = gmaps.marker_layer(locations, info_box_content=[f\"Poverty Rate: {rate}\" for rate in poverty_rate])\n",
    "markers = gmaps.marker_layer(coordinates)\n",
    "# Add the layer to the map\n",
    "fig.add_layer(markers)\n",
    "fig"
   ]
  },
  {
   "cell_type": "code",
   "execution_count": 6,
   "metadata": {},
   "outputs": [
    {
     "data": {
      "application/vnd.jupyter.widget-view+json": {
       "model_id": "0cf4b8423a994438938fa7d5fec748cf",
       "version_major": 2,
       "version_minor": 0
      },
      "text/plain": [
       "Figure(layout=FigureLayout(height='420px'))"
      ]
     },
     "metadata": {},
     "output_type": "display_data"
    }
   ],
   "source": [
    "# CREATE A MAP WITH HEATMAP\n",
    "\n",
    "# Create a list containing coordinates\n",
    "coordinates = [\n",
    "    (40.71, -74.00),\n",
    "    (30.26, -97.74),\n",
    "    (46.87, -96.78),\n",
    "    (47.60, -122.33),\n",
    "    (32.71, -117.16)\n",
    "]\n",
    "\n",
    "rating = [5,4,2.5,4,3]\n",
    "\n",
    "# locations = merge_db[[\"Latitude\", \"Longitude\"]] - when pulling from a databse\n",
    "# poverty_rate = merge_db[\"Poverty Rate\"].tolist()\n",
    "\n",
    "# Plot Heatmap\n",
    "fig = gmaps.figure() # (map_type=\"HYBRID\") or TERRAIN\n",
    "# Create heat layer\n",
    "heat_layer = gmaps.heatmap_layer(coordinates, weights=rating, dissipating=False, max_intensity=5, point_radius=1)\n",
    "# Add layer\n",
    "fig.add_layer(heat_layer)\n",
    "# Display figure\n",
    "fig"
   ]
  },
  {
   "cell_type": "code",
   "execution_count": 3,
   "metadata": {},
   "outputs": [
    {
     "name": "stdout",
     "output_type": "stream",
     "text": [
      "33120\n"
     ]
    },
    {
     "data": {
      "text/html": [
       "<div>\n",
       "<style scoped>\n",
       "    .dataframe tbody tr th:only-of-type {\n",
       "        vertical-align: middle;\n",
       "    }\n",
       "\n",
       "    .dataframe tbody tr th {\n",
       "        vertical-align: top;\n",
       "    }\n",
       "\n",
       "    .dataframe thead th {\n",
       "        text-align: right;\n",
       "    }\n",
       "</style>\n",
       "<table border=\"1\" class=\"dataframe\">\n",
       "  <thead>\n",
       "    <tr style=\"text-align: right;\">\n",
       "      <th></th>\n",
       "      <th>Zipcode</th>\n",
       "      <th>Population</th>\n",
       "      <th>Median Age</th>\n",
       "      <th>Household Income</th>\n",
       "      <th>Per Capita Income</th>\n",
       "      <th>Poverty Count</th>\n",
       "      <th>Poverty Rate</th>\n",
       "    </tr>\n",
       "  </thead>\n",
       "  <tbody>\n",
       "    <tr>\n",
       "      <th>0</th>\n",
       "      <td>08518</td>\n",
       "      <td>5217.0</td>\n",
       "      <td>41.5</td>\n",
       "      <td>74286.0</td>\n",
       "      <td>33963.0</td>\n",
       "      <td>170.0</td>\n",
       "      <td>3.258578</td>\n",
       "    </tr>\n",
       "    <tr>\n",
       "      <th>1</th>\n",
       "      <td>08520</td>\n",
       "      <td>27468.0</td>\n",
       "      <td>37.4</td>\n",
       "      <td>90293.0</td>\n",
       "      <td>37175.0</td>\n",
       "      <td>1834.0</td>\n",
       "      <td>6.676860</td>\n",
       "    </tr>\n",
       "    <tr>\n",
       "      <th>2</th>\n",
       "      <td>08525</td>\n",
       "      <td>4782.0</td>\n",
       "      <td>47.1</td>\n",
       "      <td>118656.0</td>\n",
       "      <td>59848.0</td>\n",
       "      <td>43.0</td>\n",
       "      <td>0.899205</td>\n",
       "    </tr>\n",
       "    <tr>\n",
       "      <th>3</th>\n",
       "      <td>08527</td>\n",
       "      <td>54867.0</td>\n",
       "      <td>42.2</td>\n",
       "      <td>88588.0</td>\n",
       "      <td>37021.0</td>\n",
       "      <td>2191.0</td>\n",
       "      <td>3.993293</td>\n",
       "    </tr>\n",
       "    <tr>\n",
       "      <th>4</th>\n",
       "      <td>08528</td>\n",
       "      <td>245.0</td>\n",
       "      <td>48.5</td>\n",
       "      <td>58676.0</td>\n",
       "      <td>49117.0</td>\n",
       "      <td>0.0</td>\n",
       "      <td>0.000000</td>\n",
       "    </tr>\n",
       "  </tbody>\n",
       "</table>\n",
       "</div>"
      ],
      "text/plain": [
       "  Zipcode  Population  Median Age  Household Income  Per Capita Income  \\\n",
       "0   08518      5217.0        41.5           74286.0            33963.0   \n",
       "1   08520     27468.0        37.4           90293.0            37175.0   \n",
       "2   08525      4782.0        47.1          118656.0            59848.0   \n",
       "3   08527     54867.0        42.2           88588.0            37021.0   \n",
       "4   08528       245.0        48.5           58676.0            49117.0   \n",
       "\n",
       "   Poverty Count  Poverty Rate  \n",
       "0          170.0      3.258578  \n",
       "1         1834.0      6.676860  \n",
       "2           43.0      0.899205  \n",
       "3         2191.0      3.993293  \n",
       "4            0.0      0.000000  "
      ]
     },
     "execution_count": 3,
     "metadata": {},
     "output_type": "execute_result"
    }
   ],
   "source": [
    "# CENSUS DATA\n",
    "# See: https://github.com/CommerceDataService/census-wrapper for library documentation\n",
    "# See: https://gist.github.com/afhaque/60558290d6efd892351c4b64e5c01e9b for labels\n",
    "\n",
    "census_data = c.acs5.get((\"NAME\", \"B19013_001E\", \"B01003_001E\", \"B01002_001E\",\n",
    "                          \"B19301_001E\",\n",
    "                          \"B17001_002E\"), {'for': 'zip code tabulation area:*'})\n",
    "\n",
    "# Convert to DataFrame\n",
    "census_pd = pd.DataFrame(census_data)\n",
    "\n",
    "# Column Reordering\n",
    "census_pd = census_pd.rename(columns={\"B01003_001E\": \"Population\",\n",
    "                                      \"B01002_001E\": \"Median Age\",\n",
    "                                      \"B19013_001E\": \"Household Income\",\n",
    "                                      \"B19301_001E\": \"Per Capita Income\",\n",
    "                                      \"B17001_002E\": \"Poverty Count\",\n",
    "                                      \"NAME\": \"Name\", \"zip code tabulation area\": \"Zipcode\"})\n",
    "\n",
    "# Add in Poverty Rate (Poverty Count / Population)\n",
    "census_pd[\"Poverty Rate\"] = 100 * \\\n",
    "    census_pd[\"Poverty Count\"].astype(\n",
    "        int) / census_pd[\"Population\"].astype(int)\n",
    "\n",
    "# Final DataFrame\n",
    "census_pd = census_pd[[\"Zipcode\", \"Population\", \"Median Age\", \"Household Income\",\n",
    "                       \"Per Capita Income\", \"Poverty Count\", \"Poverty Rate\"]]\n",
    "\n",
    "# Visualize\n",
    "print(len(census_pd))\n",
    "census_pd.head()\n",
    "# Save as a csv\n",
    "# Note to avoid any issues later, use encoding=\"utf-8\"\n",
    "# census_pd.to_csv(\"census_data.csv\", encoding=\"utf-8\", index=False)"
   ]
  },
  {
   "cell_type": "code",
   "execution_count": null,
   "metadata": {},
   "outputs": [],
   "source": [
    "# GIT COMMANDS\n",
    "# Create your own branch\n",
    "#    git checkout -b\"nameofbranch\"\n",
    "# Then make sure to do a add, commit and then a push below \n",
    "#    git push origin nameofbranch \n",
    "# git checkout master\n",
    "\n",
    "\n",
    "#To look at another branch\n",
    "#    git fetch\n",
    "# To see someone elses\n",
    "#    git checkout nameofbranch\n"
   ]
  }
 ],
 "metadata": {
  "kernelspec": {
   "display_name": "Python 3",
   "language": "python",
   "name": "python3"
  },
  "language_info": {
   "codemirror_mode": {
    "name": "ipython",
    "version": 3
   },
   "file_extension": ".py",
   "mimetype": "text/x-python",
   "name": "python",
   "nbconvert_exporter": "python",
   "pygments_lexer": "ipython3",
   "version": "3.7.1"
  }
 },
 "nbformat": 4,
 "nbformat_minor": 2
}
