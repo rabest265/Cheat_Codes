{
 "cells": [
  {
   "cell_type": "code",
   "execution_count": 1,
   "metadata": {},
   "outputs": [],
   "source": [
    "# Import Dependencies\n",
    "import pandas as pd\n",
    "import os"
   ]
  },
  {
   "cell_type": "code",
   "execution_count": 2,
   "metadata": {},
   "outputs": [],
   "source": [
    "# Reference the file where the CSV is located\n",
    "filepath = os.path.join (\"Resources\",\"crime_incident_data2017.csv\" )\n",
    "# Import the data into a Pandas DataFrame\n",
    "df = pd.read_csv(filepath, encoding=\"ISO-8859-1\")"
   ]
  },
  {
   "cell_type": "code",
   "execution_count": 4,
   "metadata": {},
   "outputs": [
    {
     "data": {
      "text/plain": [
       "Address              37365\n",
       "Case Number          41032\n",
       "Crime Against        41032\n",
       "Neighborhood         39712\n",
       "Number of Records    41032\n",
       "Occur Date           41032\n",
       "Occur Month Year     41032\n",
       "Occur Time           41032\n",
       "Offense Category     41032\n",
       "Offense Count        41032\n",
       "Offense Type         41032\n",
       "Open Data Lat        36712\n",
       "Open Data Lon        36712\n",
       "Open Data X          36712\n",
       "Open Data Y          36712\n",
       "Report Date          41032\n",
       "Report Month Year    41032\n",
       "dtype: int64"
      ]
     },
     "execution_count": 4,
     "metadata": {},
     "output_type": "execute_result"
    }
   ],
   "source": [
    "# look for missing values\n",
    "df.count ()"
   ]
  },
  {
   "cell_type": "code",
   "execution_count": 6,
   "metadata": {},
   "outputs": [],
   "source": [
    "# drop null rows\n",
    "df = df.dropna(how=\"any\")\n"
   ]
  },
  {
   "cell_type": "code",
   "execution_count": 7,
   "metadata": {},
   "outputs": [
    {
     "data": {
      "text/plain": [
       "Address              36146\n",
       "Case Number          36146\n",
       "Crime Against        36146\n",
       "Neighborhood         36146\n",
       "Number of Records    36146\n",
       "Occur Date           36146\n",
       "Occur Month Year     36146\n",
       "Occur Time           36146\n",
       "Offense Category     36146\n",
       "Offense Count        36146\n",
       "Offense Type         36146\n",
       "Open Data Lat        36146\n",
       "Open Data Lon        36146\n",
       "Open Data X          36146\n",
       "Open Data Y          36146\n",
       "Report Date          36146\n",
       "Report Month Year    36146\n",
       "dtype: int64"
      ]
     },
     "execution_count": 7,
     "metadata": {},
     "output_type": "execute_result"
    }
   ],
   "source": [
    "# verify counts\n",
    "df.count()"
   ]
  },
  {
   "cell_type": "code",
   "execution_count": 10,
   "metadata": {
    "scrolled": true
   },
   "outputs": [
    {
     "data": {
      "text/plain": [
       "Theft From Motor Vehicle                       6947\n",
       "Motor Vehicle Theft                            4689\n",
       "All Other Larceny                              4558\n",
       "Vandalism                                      3863\n",
       "Burglary                                       2824\n",
       "Shoplifting                                    2259\n",
       "Identity Theft                                 1794\n",
       "Simple Assault                                 1216\n",
       "Drug/Narcotic Violations                       1095\n",
       "Theft of Motor Vehicle Parts or Accessories    1073\n",
       "Intimidation                                    900\n",
       "Theft From Building                             895\n",
       "False Pretenses/Swindle/Confidence Game         870\n",
       "Aggravated Assault                              839\n",
       "Robbery                                         608\n",
       "Counterfeiting/Forgery                          448\n",
       "Weapons Law Violations                          266\n",
       "Credit Card/ATM Fraud                           226\n",
       "Arson                                           200\n",
       "Prostitution                                    145\n",
       "Pocket-Picking                                   94\n",
       "Purse-Snatching                                  89\n",
       "Embezzlement                                     73\n",
       "Stolen Property Offenses                         57\n",
       "Kidnapping/Abduction                             22\n",
       "Theft From Coin-Operated Machine or Device       20\n",
       "Hacking/Computer Invasion                        19\n",
       "Animal Cruelty                                   17\n",
       "Pornography/Obscene Material                     10\n",
       "Extortion/Blackmail                               8\n",
       "Assisting or Promoting Prostitution               7\n",
       "Drug Equipment Violations                         6\n",
       "Impersonation                                     4\n",
       "Wire Fraud                                        3\n",
       "Commercial Sex Acts                               1\n",
       "Welfare Fraud                                     1\n",
       "Name: Offense Type, dtype: int64"
      ]
     },
     "execution_count": 10,
     "metadata": {},
     "output_type": "execute_result"
    }
   ],
   "source": [
    "# Check to see if there are any values with mispelled or similar values in \"Offense Type\"\n",
    "df['Offense Type'].value_counts ()"
   ]
  },
  {
   "cell_type": "code",
   "execution_count": 14,
   "metadata": {},
   "outputs": [
    {
     "data": {
      "text/plain": [
       "Theft From Motor Vehicle                      8020\n",
       "Motor Vehicle Theft                           4689\n",
       "All Other Larceny                             4558\n",
       "Vandalism                                     3863\n",
       "Burglary                                      2824\n",
       "Shoplifting                                   2259\n",
       "Identity Theft                                1794\n",
       "Simple Assault                                1216\n",
       "Drug/Narcotic Violations                      1095\n",
       "Intimidation                                   900\n",
       "Theft From Building                            895\n",
       "False Pretenses/Swindle/Confidence Game        870\n",
       "Aggravated Assault                             839\n",
       "Robbery                                        608\n",
       "Counterfeiting/Forgery                         448\n",
       "Weapons Law Violations                         266\n",
       "Credit Card/ATM Fraud                          226\n",
       "Arson                                          200\n",
       "Prostitution                                   145\n",
       "Pocket-Picking                                  94\n",
       "Purse-Snatching                                 89\n",
       "Embezzlement                                    73\n",
       "Stolen Property Offenses                        57\n",
       "Kidnapping/Abduction                            22\n",
       "Theft From Coin-Operated Machine or Device      20\n",
       "Hacking/Computer Invasion                       19\n",
       "Animal Cruelty                                  17\n",
       "Pornography/Obscene Material                    10\n",
       "Extortion/Blackmail                              8\n",
       "Assisting or Promoting Prostitution              7\n",
       "Drug Equipment Violations                        6\n",
       "Impersonation                                    4\n",
       "Wire Fraud                                       3\n",
       "Commercial Sex Acts                              1\n",
       "Welfare Fraud                                    1\n",
       "Name: Offense Type, dtype: int64"
      ]
     },
     "execution_count": 14,
     "metadata": {},
     "output_type": "execute_result"
    }
   ],
   "source": [
    "# Combine similar offenses\n",
    "df[\"Offense Type\"]= df[\"Offense Type\"].replace ({ \"Robbery \" :\"Burglary\", \"Theft of Motor Vehicle Parts or Accessories\": \"Theft From Motor Vehicle\"})\n",
    "df[\"Offense Type\"].value_counts ()\n"
   ]
  },
  {
   "cell_type": "code",
   "execution_count": 39,
   "metadata": {},
   "outputs": [
    {
     "data": {
      "text/html": [
       "<div>\n",
       "<style scoped>\n",
       "    .dataframe tbody tr th:only-of-type {\n",
       "        vertical-align: middle;\n",
       "    }\n",
       "\n",
       "    .dataframe tbody tr th {\n",
       "        vertical-align: top;\n",
       "    }\n",
       "\n",
       "    .dataframe thead th {\n",
       "        text-align: right;\n",
       "    }\n",
       "</style>\n",
       "<table border=\"1\" class=\"dataframe\">\n",
       "  <thead>\n",
       "    <tr style=\"text-align: right;\">\n",
       "      <th></th>\n",
       "      <th>Address</th>\n",
       "      <th>Case Number</th>\n",
       "      <th>Crime Against</th>\n",
       "      <th>Neighborhood</th>\n",
       "      <th>Number of Records</th>\n",
       "      <th>Occur Date</th>\n",
       "      <th>Occur Month Year</th>\n",
       "      <th>Occur Time</th>\n",
       "      <th>Offense Category</th>\n",
       "      <th>Offense Count</th>\n",
       "      <th>Offense Type</th>\n",
       "      <th>Open Data Lat</th>\n",
       "      <th>Open Data Lon</th>\n",
       "      <th>Open Data X</th>\n",
       "      <th>Open Data Y</th>\n",
       "      <th>Report Date</th>\n",
       "      <th>Report Month Year</th>\n",
       "    </tr>\n",
       "  </thead>\n",
       "  <tbody>\n",
       "    <tr>\n",
       "      <th>5</th>\n",
       "      <td>5400 BLOCK OF NE MALLORY AVE</td>\n",
       "      <td>17-900129</td>\n",
       "      <td>Property</td>\n",
       "      <td>King</td>\n",
       "      <td>1</td>\n",
       "      <td>11/28/10</td>\n",
       "      <td>11/1/10</td>\n",
       "      <td>1612</td>\n",
       "      <td>Fraud Offenses</td>\n",
       "      <td>1</td>\n",
       "      <td>Identity Theft</td>\n",
       "      <td>45.5625</td>\n",
       "      <td>-122.664</td>\n",
       "      <td>7.64799e+06</td>\n",
       "      <td>698581</td>\n",
       "      <td>1/3/17</td>\n",
       "      <td>1/1/17</td>\n",
       "    </tr>\n",
       "    <tr>\n",
       "      <th>390</th>\n",
       "      <td>5500 BLOCK OF NE MARTIN LUTHER KING JR BLVD</td>\n",
       "      <td>17-9250</td>\n",
       "      <td>Property</td>\n",
       "      <td>King</td>\n",
       "      <td>1</td>\n",
       "      <td>12/10/16</td>\n",
       "      <td>12/1/16</td>\n",
       "      <td>0</td>\n",
       "      <td>Larceny Offenses</td>\n",
       "      <td>1</td>\n",
       "      <td>All Other Larceny</td>\n",
       "      <td>45.5631</td>\n",
       "      <td>-122.661</td>\n",
       "      <td>7.6486e+06</td>\n",
       "      <td>698786</td>\n",
       "      <td>1/10/17</td>\n",
       "      <td>1/1/17</td>\n",
       "    </tr>\n",
       "    <tr>\n",
       "      <th>611</th>\n",
       "      <td>900 BLOCK OF NE ALBERTA ST</td>\n",
       "      <td>17-900046</td>\n",
       "      <td>Property</td>\n",
       "      <td>King</td>\n",
       "      <td>1</td>\n",
       "      <td>1/1/17</td>\n",
       "      <td>1/1/17</td>\n",
       "      <td>925</td>\n",
       "      <td>Larceny Offenses</td>\n",
       "      <td>1</td>\n",
       "      <td>All Other Larceny</td>\n",
       "      <td>45.5592</td>\n",
       "      <td>-122.656</td>\n",
       "      <td>7.64992e+06</td>\n",
       "      <td>697323</td>\n",
       "      <td>1/2/17</td>\n",
       "      <td>1/1/17</td>\n",
       "    </tr>\n",
       "    <tr>\n",
       "      <th>708</th>\n",
       "      <td>NE 6TH AVE / NE BEECH ST</td>\n",
       "      <td>17-1842</td>\n",
       "      <td>Society</td>\n",
       "      <td>King</td>\n",
       "      <td>1</td>\n",
       "      <td>1/2/17</td>\n",
       "      <td>1/1/17</td>\n",
       "      <td>2144</td>\n",
       "      <td>Weapon Law Violations</td>\n",
       "      <td>1</td>\n",
       "      <td>Weapons Law Violations</td>\n",
       "      <td>45.5495</td>\n",
       "      <td>-122.66</td>\n",
       "      <td>7.64892e+06</td>\n",
       "      <td>693827</td>\n",
       "      <td>1/2/17</td>\n",
       "      <td>1/1/17</td>\n",
       "    </tr>\n",
       "    <tr>\n",
       "      <th>715</th>\n",
       "      <td>1400 BLOCK OF NE ALBERTA ST</td>\n",
       "      <td>17-900118</td>\n",
       "      <td>Property</td>\n",
       "      <td>King</td>\n",
       "      <td>1</td>\n",
       "      <td>1/1/17</td>\n",
       "      <td>1/1/17</td>\n",
       "      <td>1355</td>\n",
       "      <td>Vandalism</td>\n",
       "      <td>1</td>\n",
       "      <td>Vandalism</td>\n",
       "      <td>45.5591</td>\n",
       "      <td>-122.651</td>\n",
       "      <td>7.65117e+06</td>\n",
       "      <td>697285</td>\n",
       "      <td>1/3/17</td>\n",
       "      <td>1/1/17</td>\n",
       "    </tr>\n",
       "  </tbody>\n",
       "</table>\n",
       "</div>"
      ],
      "text/plain": [
       "                                         Address Case Number Crime Against  \\\n",
       "5                   5400 BLOCK OF NE MALLORY AVE   17-900129      Property   \n",
       "390  5500 BLOCK OF NE MARTIN LUTHER KING JR BLVD     17-9250      Property   \n",
       "611                   900 BLOCK OF NE ALBERTA ST   17-900046      Property   \n",
       "708                     NE 6TH AVE / NE BEECH ST     17-1842       Society   \n",
       "715                  1400 BLOCK OF NE ALBERTA ST   17-900118      Property   \n",
       "\n",
       "    Neighborhood Number of Records Occur Date Occur Month Year Occur Time  \\\n",
       "5           King                 1   11/28/10          11/1/10       1612   \n",
       "390         King                 1   12/10/16          12/1/16          0   \n",
       "611         King                 1     1/1/17           1/1/17        925   \n",
       "708         King                 1     1/2/17           1/1/17       2144   \n",
       "715         King                 1     1/1/17           1/1/17       1355   \n",
       "\n",
       "          Offense Category Offense Count            Offense Type  \\\n",
       "5           Fraud Offenses             1          Identity Theft   \n",
       "390       Larceny Offenses             1       All Other Larceny   \n",
       "611       Larceny Offenses             1       All Other Larceny   \n",
       "708  Weapon Law Violations             1  Weapons Law Violations   \n",
       "715              Vandalism             1               Vandalism   \n",
       "\n",
       "    Open Data Lat Open Data Lon  Open Data X Open Data Y Report Date  \\\n",
       "5         45.5625      -122.664  7.64799e+06      698581      1/3/17   \n",
       "390       45.5631      -122.661   7.6486e+06      698786     1/10/17   \n",
       "611       45.5592      -122.656  7.64992e+06      697323      1/2/17   \n",
       "708       45.5495       -122.66  7.64892e+06      693827      1/2/17   \n",
       "715       45.5591      -122.651  7.65117e+06      697285      1/3/17   \n",
       "\n",
       "    Report Month Year  \n",
       "5              1/1/17  \n",
       "390            1/1/17  \n",
       "611            1/1/17  \n",
       "708            1/1/17  \n",
       "715            1/1/17  "
      ]
     },
     "execution_count": 39,
     "metadata": {},
     "output_type": "execute_result"
    }
   ],
   "source": [
    "# Create a new DataFrame that looks into a specific neighborhood\n",
    "# new_DF_name = DF_name.loc[df_name[\"column\"] == \"value\", :]\n",
    "King_df = df.loc[df[\"Neighborhood\"] == \"King\", :]\n",
    "King_df.head()"
   ]
  },
  {
   "cell_type": "code",
   "execution_count": null,
   "metadata": {},
   "outputs": [],
   "source": []
  },
  {
   "cell_type": "code",
   "execution_count": null,
   "metadata": {},
   "outputs": [],
   "source": []
  }
 ],
 "metadata": {
  "kernelspec": {
   "display_name": "Python 3",
   "language": "python",
   "name": "python3"
  },
  "language_info": {
   "codemirror_mode": {
    "name": "ipython",
    "version": 3
   },
   "file_extension": ".py",
   "mimetype": "text/x-python",
   "name": "python",
   "nbconvert_exporter": "python",
   "pygments_lexer": "ipython3",
   "version": "3.7.1"
  }
 },
 "nbformat": 4,
 "nbformat_minor": 2
}
